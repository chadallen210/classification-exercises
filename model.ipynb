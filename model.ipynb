{
 "cells": [
  {
   "cell_type": "markdown",
   "metadata": {},
   "source": [
    "## Decision Tree Exercises\n",
    "\n",
    "### Using the titanic data, in your classification-exercises repository, create a notebook, model.ipynb where you will do the following:\n",
    "\n",
    "#### 1. What is your baseline prediction? What is your baseline accuracy? remember: your baseline prediction for a classification problem is predicting the most prevelant class in the training dataset (the mode). When you make those predictions, what is your accuracy? This is your baseline accuracy."
   ]
  },
  {
   "cell_type": "code",
   "execution_count": 230,
   "metadata": {},
   "outputs": [],
   "source": [
    "import numpy as np\n",
    "import pandas as pd\n",
    "\n",
    "import matplotlib.pyplot as plt\n",
    "plt.rc('figure', figsize=(11, 9))\n",
    "plt.rc('font', size=13)\n",
    "\n",
    "from sklearn.dummy import DummyClassifier\n",
    "from sklearn.metrics import classification_report\n",
    "from sklearn.metrics import confusion_matrix\n",
    "from sklearn.metrics import precision_score\n",
    "from sklearn.metrics import accuracy_score\n",
    "from sklearn.metrics import recall_score\n",
    "from sklearn.metrics import f1_score\n",
    "from sklearn.metrics import precision_recall_fscore_support\n",
    "from sklearn.tree import DecisionTreeClassifier, plot_tree, export_text\n",
    "from sklearn.ensemble import RandomForestClassifier\n",
    "\n",
    "import acquire\n",
    "import prepare\n",
    "\n",
    "import warnings\n",
    "warnings.filterwarnings(\"ignore\")"
   ]
  },
  {
   "cell_type": "code",
   "execution_count": 231,
   "metadata": {},
   "outputs": [
    {
     "data": {
      "text/plain": [
       "((497, 15), (214, 15), (178, 15))"
      ]
     },
     "execution_count": 231,
     "metadata": {},
     "output_type": "execute_result"
    }
   ],
   "source": [
    "train, validate, test = prepare.prep_titanic(acquire.get_titanic_data())\n",
    "train.shape, validate.shape, test.shape"
   ]
  },
  {
   "cell_type": "code",
   "execution_count": 232,
   "metadata": {},
   "outputs": [],
   "source": [
    "X_train, y_train = train.drop(columns='survived'), train.survived\n",
    "X_validate, y_validate = validate.drop(columns='survived'), validate.survived\n",
    "X_test, y_test = test.drop(columns='survived'), test.survived"
   ]
  },
  {
   "cell_type": "code",
   "execution_count": 233,
   "metadata": {},
   "outputs": [
    {
     "data": {
      "text/html": [
       "<div>\n",
       "<style scoped>\n",
       "    .dataframe tbody tr th:only-of-type {\n",
       "        vertical-align: middle;\n",
       "    }\n",
       "\n",
       "    .dataframe tbody tr th {\n",
       "        vertical-align: top;\n",
       "    }\n",
       "\n",
       "    .dataframe thead th {\n",
       "        text-align: right;\n",
       "    }\n",
       "</style>\n",
       "<table border=\"1\" class=\"dataframe\">\n",
       "  <thead>\n",
       "    <tr style=\"text-align: right;\">\n",
       "      <th></th>\n",
       "      <th>passenger_id</th>\n",
       "      <th>pclass</th>\n",
       "      <th>sex</th>\n",
       "      <th>age</th>\n",
       "      <th>sibsp</th>\n",
       "      <th>parch</th>\n",
       "      <th>fare</th>\n",
       "      <th>embarked</th>\n",
       "      <th>class</th>\n",
       "      <th>embark_town</th>\n",
       "      <th>alone</th>\n",
       "      <th>embarked_Q</th>\n",
       "      <th>embarked_S</th>\n",
       "      <th>sex_male</th>\n",
       "    </tr>\n",
       "  </thead>\n",
       "  <tbody>\n",
       "    <tr>\n",
       "      <th>583</th>\n",
       "      <td>583</td>\n",
       "      <td>1</td>\n",
       "      <td>male</td>\n",
       "      <td>36.000000</td>\n",
       "      <td>0</td>\n",
       "      <td>0</td>\n",
       "      <td>40.1250</td>\n",
       "      <td>C</td>\n",
       "      <td>First</td>\n",
       "      <td>Cherbourg</td>\n",
       "      <td>1</td>\n",
       "      <td>0</td>\n",
       "      <td>0</td>\n",
       "      <td>1</td>\n",
       "    </tr>\n",
       "    <tr>\n",
       "      <th>337</th>\n",
       "      <td>337</td>\n",
       "      <td>1</td>\n",
       "      <td>female</td>\n",
       "      <td>41.000000</td>\n",
       "      <td>0</td>\n",
       "      <td>0</td>\n",
       "      <td>134.5000</td>\n",
       "      <td>C</td>\n",
       "      <td>First</td>\n",
       "      <td>Cherbourg</td>\n",
       "      <td>1</td>\n",
       "      <td>0</td>\n",
       "      <td>0</td>\n",
       "      <td>0</td>\n",
       "    </tr>\n",
       "    <tr>\n",
       "      <th>50</th>\n",
       "      <td>50</td>\n",
       "      <td>3</td>\n",
       "      <td>male</td>\n",
       "      <td>7.000000</td>\n",
       "      <td>4</td>\n",
       "      <td>1</td>\n",
       "      <td>39.6875</td>\n",
       "      <td>S</td>\n",
       "      <td>Third</td>\n",
       "      <td>Southampton</td>\n",
       "      <td>0</td>\n",
       "      <td>0</td>\n",
       "      <td>1</td>\n",
       "      <td>1</td>\n",
       "    </tr>\n",
       "    <tr>\n",
       "      <th>218</th>\n",
       "      <td>218</td>\n",
       "      <td>1</td>\n",
       "      <td>female</td>\n",
       "      <td>32.000000</td>\n",
       "      <td>0</td>\n",
       "      <td>0</td>\n",
       "      <td>76.2917</td>\n",
       "      <td>C</td>\n",
       "      <td>First</td>\n",
       "      <td>Cherbourg</td>\n",
       "      <td>1</td>\n",
       "      <td>0</td>\n",
       "      <td>0</td>\n",
       "      <td>0</td>\n",
       "    </tr>\n",
       "    <tr>\n",
       "      <th>31</th>\n",
       "      <td>31</td>\n",
       "      <td>1</td>\n",
       "      <td>female</td>\n",
       "      <td>29.916875</td>\n",
       "      <td>1</td>\n",
       "      <td>0</td>\n",
       "      <td>146.5208</td>\n",
       "      <td>C</td>\n",
       "      <td>First</td>\n",
       "      <td>Cherbourg</td>\n",
       "      <td>0</td>\n",
       "      <td>0</td>\n",
       "      <td>0</td>\n",
       "      <td>0</td>\n",
       "    </tr>\n",
       "  </tbody>\n",
       "</table>\n",
       "</div>"
      ],
      "text/plain": [
       "     passenger_id  pclass     sex        age  sibsp  parch      fare embarked  \\\n",
       "583           583       1    male  36.000000      0      0   40.1250        C   \n",
       "337           337       1  female  41.000000      0      0  134.5000        C   \n",
       "50             50       3    male   7.000000      4      1   39.6875        S   \n",
       "218           218       1  female  32.000000      0      0   76.2917        C   \n",
       "31             31       1  female  29.916875      1      0  146.5208        C   \n",
       "\n",
       "     class  embark_town  alone  embarked_Q  embarked_S  sex_male  \n",
       "583  First    Cherbourg      1           0           0         1  \n",
       "337  First    Cherbourg      1           0           0         0  \n",
       "50   Third  Southampton      0           0           1         1  \n",
       "218  First    Cherbourg      1           0           0         0  \n",
       "31   First    Cherbourg      0           0           0         0  "
      ]
     },
     "execution_count": 233,
     "metadata": {},
     "output_type": "execute_result"
    }
   ],
   "source": [
    "X_train.head()"
   ]
  },
  {
   "cell_type": "code",
   "execution_count": 234,
   "metadata": {},
   "outputs": [
    {
     "name": "stdout",
     "output_type": "stream",
     "text": [
      "<class 'pandas.core.frame.DataFrame'>\n",
      "Int64Index: 497 entries, 583 to 553\n",
      "Data columns (total 14 columns):\n",
      " #   Column        Non-Null Count  Dtype  \n",
      "---  ------        --------------  -----  \n",
      " 0   passenger_id  497 non-null    int64  \n",
      " 1   pclass        497 non-null    int64  \n",
      " 2   sex           497 non-null    object \n",
      " 3   age           497 non-null    float64\n",
      " 4   sibsp         497 non-null    int64  \n",
      " 5   parch         497 non-null    int64  \n",
      " 6   fare          497 non-null    float64\n",
      " 7   embarked      497 non-null    object \n",
      " 8   class         497 non-null    object \n",
      " 9   embark_town   497 non-null    object \n",
      " 10  alone         497 non-null    int64  \n",
      " 11  embarked_Q    497 non-null    uint8  \n",
      " 12  embarked_S    497 non-null    uint8  \n",
      " 13  sex_male      497 non-null    uint8  \n",
      "dtypes: float64(2), int64(5), object(4), uint8(3)\n",
      "memory usage: 48.0+ KB\n"
     ]
    }
   ],
   "source": [
    "X_train.info()"
   ]
  },
  {
   "cell_type": "code",
   "execution_count": 235,
   "metadata": {},
   "outputs": [
    {
     "data": {
      "text/plain": [
       "0    307\n",
       "1    190\n",
       "Name: survived, dtype: int64"
      ]
     },
     "execution_count": 235,
     "metadata": {},
     "output_type": "execute_result"
    }
   ],
   "source": [
    "# value counts for subset to create baseline\n",
    "y_train.value_counts()"
   ]
  },
  {
   "cell_type": "code",
   "execution_count": 236,
   "metadata": {},
   "outputs": [
    {
     "name": "stdout",
     "output_type": "stream",
     "text": [
      "Baseline accuracy on the train subset: 0.6177\n"
     ]
    }
   ],
   "source": [
    "# baseline prediction = 0 (everyone dies)\n",
    "\n",
    "# 1. Create the baseline with constant equal to highest value from y_train\n",
    "baseline = DummyClassifier(strategy='constant', constant=0)\n",
    "# 2. Fit the baseline to the train subset\n",
    "baseline.fit(X_train, y_train)\n",
    "# 3. Accuracy of the baseline on the train subset\n",
    "print(f'Baseline accuracy on the train subset: %.4f' % baseline.score(X_train, y_train))"
   ]
  },
  {
   "cell_type": "markdown",
   "metadata": {},
   "source": [
    "#### 2. Fit the decision tree classifier to your training sample and transform (i.e. make predictions on the training sample)"
   ]
  },
  {
   "cell_type": "code",
   "execution_count": 342,
   "metadata": {},
   "outputs": [],
   "source": [
    "X_cols = ['pclass', 'age', 'fare', 'sex_male']\n",
    "y_col = 'survived'\n",
    "\n",
    "X_train, y_train = train[X_cols], train[y_col]\n",
    "X_validate, y_validate = validate[X_cols], validate[y_col]\n",
    "X_test, y_test = test[X_cols], test[y_col]"
   ]
  },
  {
   "cell_type": "code",
   "execution_count": 343,
   "metadata": {},
   "outputs": [
    {
     "data": {
      "text/plain": [
       "DecisionTreeClassifier(max_depth=3, random_state=1234)"
      ]
     },
     "execution_count": 343,
     "metadata": {},
     "output_type": "execute_result"
    }
   ],
   "source": [
    "# 1. Create the decision tree\n",
    "tree1 = DecisionTreeClassifier(max_depth=3, random_state=1234)\n",
    "# 2. Fit the object\n",
    "tree1.fit(X_train, y_train)"
   ]
  },
  {
   "cell_type": "markdown",
   "metadata": {},
   "source": [
    "#### 3. Evaluate your in-sample results using the model score, confusion matrix, and classification report."
   ]
  },
  {
   "cell_type": "code",
   "execution_count": 344,
   "metadata": {},
   "outputs": [
    {
     "name": "stdout",
     "output_type": "stream",
     "text": [
      "Model score for tree1 on train subset is: 0.8189\n",
      "Model score for tree1 on validate subset is: 0.7897\n"
     ]
    }
   ],
   "source": [
    "print(f'Model score for tree1 on train subset is: {tree1.score(X_train, y_train):.4}')\n",
    "print(f'Model score for tree1 on validate subset is: {tree1.score(X_validate, y_validate):.4}')"
   ]
  },
  {
   "cell_type": "code",
   "execution_count": 345,
   "metadata": {},
   "outputs": [
    {
     "data": {
      "text/html": [
       "<div>\n",
       "<style scoped>\n",
       "    .dataframe tbody tr th:only-of-type {\n",
       "        vertical-align: middle;\n",
       "    }\n",
       "\n",
       "    .dataframe tbody tr th {\n",
       "        vertical-align: top;\n",
       "    }\n",
       "\n",
       "    .dataframe thead th {\n",
       "        text-align: right;\n",
       "    }\n",
       "</style>\n",
       "<table border=\"1\" class=\"dataframe\">\n",
       "  <thead>\n",
       "    <tr style=\"text-align: right;\">\n",
       "      <th></th>\n",
       "      <th>0</th>\n",
       "      <th>1</th>\n",
       "    </tr>\n",
       "  </thead>\n",
       "  <tbody>\n",
       "    <tr>\n",
       "      <th>0</th>\n",
       "      <td>279</td>\n",
       "      <td>28</td>\n",
       "    </tr>\n",
       "    <tr>\n",
       "      <th>1</th>\n",
       "      <td>62</td>\n",
       "      <td>128</td>\n",
       "    </tr>\n",
       "  </tbody>\n",
       "</table>\n",
       "</div>"
      ],
      "text/plain": [
       "     0    1\n",
       "0  279   28\n",
       "1   62  128"
      ]
     },
     "execution_count": 345,
     "metadata": {},
     "output_type": "execute_result"
    }
   ],
   "source": [
    "pd.DataFrame(confusion_matrix(y_train, tree1.predict(X_train)))"
   ]
  },
  {
   "cell_type": "code",
   "execution_count": 346,
   "metadata": {},
   "outputs": [
    {
     "data": {
      "text/html": [
       "<div>\n",
       "<style scoped>\n",
       "    .dataframe tbody tr th:only-of-type {\n",
       "        vertical-align: middle;\n",
       "    }\n",
       "\n",
       "    .dataframe tbody tr th {\n",
       "        vertical-align: top;\n",
       "    }\n",
       "\n",
       "    .dataframe thead th {\n",
       "        text-align: right;\n",
       "    }\n",
       "</style>\n",
       "<table border=\"1\" class=\"dataframe\">\n",
       "  <thead>\n",
       "    <tr style=\"text-align: right;\">\n",
       "      <th></th>\n",
       "      <th>0</th>\n",
       "      <th>1</th>\n",
       "      <th>accuracy</th>\n",
       "      <th>macro avg</th>\n",
       "      <th>weighted avg</th>\n",
       "    </tr>\n",
       "  </thead>\n",
       "  <tbody>\n",
       "    <tr>\n",
       "      <th>precision</th>\n",
       "      <td>0.818182</td>\n",
       "      <td>0.820513</td>\n",
       "      <td>0.818913</td>\n",
       "      <td>0.819347</td>\n",
       "      <td>0.819073</td>\n",
       "    </tr>\n",
       "    <tr>\n",
       "      <th>recall</th>\n",
       "      <td>0.908795</td>\n",
       "      <td>0.673684</td>\n",
       "      <td>0.818913</td>\n",
       "      <td>0.791239</td>\n",
       "      <td>0.818913</td>\n",
       "    </tr>\n",
       "    <tr>\n",
       "      <th>f1-score</th>\n",
       "      <td>0.861111</td>\n",
       "      <td>0.739884</td>\n",
       "      <td>0.818913</td>\n",
       "      <td>0.800498</td>\n",
       "      <td>0.814767</td>\n",
       "    </tr>\n",
       "    <tr>\n",
       "      <th>support</th>\n",
       "      <td>307.000000</td>\n",
       "      <td>190.000000</td>\n",
       "      <td>0.818913</td>\n",
       "      <td>497.000000</td>\n",
       "      <td>497.000000</td>\n",
       "    </tr>\n",
       "  </tbody>\n",
       "</table>\n",
       "</div>"
      ],
      "text/plain": [
       "                    0           1  accuracy   macro avg  weighted avg\n",
       "precision    0.818182    0.820513  0.818913    0.819347      0.819073\n",
       "recall       0.908795    0.673684  0.818913    0.791239      0.818913\n",
       "f1-score     0.861111    0.739884  0.818913    0.800498      0.814767\n",
       "support    307.000000  190.000000  0.818913  497.000000    497.000000"
      ]
     },
     "execution_count": 346,
     "metadata": {},
     "output_type": "execute_result"
    }
   ],
   "source": [
    "pd.DataFrame(classification_report(y_train, tree1.predict(X_train), output_dict=True))"
   ]
  },
  {
   "cell_type": "markdown",
   "metadata": {},
   "source": [
    "#### 4. Compute: Accuracy, true positive rate, false positive rate, true negative rate, false negative rate, precision, recall, f1-score, and support."
   ]
  },
  {
   "cell_type": "code",
   "execution_count": 347,
   "metadata": {},
   "outputs": [
    {
     "name": "stdout",
     "output_type": "stream",
     "text": [
      "Accuracy score is: 0.8189\n",
      "True Positive Rate is: 56.14%\n",
      "False Positive Rate is: 5.63%\n",
      "True Negative Rate is: 25.75%\n",
      "False Negative Rate is: 12.47%\n",
      "Precision score is: 0.8205\n",
      "Recall score is: 0.6737\n",
      "F1-score score is: 0.7399\n",
      "Support score is: [307 190]\n"
     ]
    }
   ],
   "source": [
    "acc = accuracy_score(y_train, tree1.predict(X_train))\n",
    "print(f'Accuracy score is: {acc:.4}')\n",
    "\n",
    "count = len(X_train)\n",
    "\n",
    "tp = 279\n",
    "fp = 28\n",
    "fn = 62\n",
    "tn = 128\n",
    "\n",
    "print(f'True Positive Rate is: {tp/count:.2%}')\n",
    "print(f'False Positive Rate is: {fp/count:.2%}')\n",
    "print(f'True Negative Rate is: {tn/count:.2%}')\n",
    "print(f'False Negative Rate is: {fn/count:.2%}')\n",
    "\n",
    "prec = precision_score(y_train, tree1.predict(X_train))\n",
    "print(f'Precision score is: {prec:.4}')\n",
    "\n",
    "recall = recall_score(y_train, tree1.predict(X_train))\n",
    "print(f'Recall score is: {recall:.4}')\n",
    "\n",
    "fscore = f1_score(y_train, tree1.predict(X_train))\n",
    "print(f'F1-score score is: {fscore:.4}')\n",
    "\n",
    "pre, rec, f1, supp = precision_recall_fscore_support(y_train, tree1.predict(X_train))\n",
    "print(f'Support score is: {supp}')"
   ]
  },
  {
   "cell_type": "code",
   "execution_count": 348,
   "metadata": {},
   "outputs": [
    {
     "data": {
      "text/plain": [
       "pclass      0.242454\n",
       "age         0.095586\n",
       "fare        0.057635\n",
       "sex_male    0.604325\n",
       "dtype: float64"
      ]
     },
     "execution_count": 348,
     "metadata": {},
     "output_type": "execute_result"
    }
   ],
   "source": [
    "pd.Series(dict(zip(X_train.columns, tree1.feature_importances_)))"
   ]
  },
  {
   "cell_type": "code",
   "execution_count": 243,
   "metadata": {},
   "outputs": [
    {
     "data": {
      "image/png": "[encoded data removed]",
      "text/plain": [
       "<Figure size 792x648 with 1 Axes>"
      ]
     },
     "metadata": {
      "needs_background": "light"
     },
     "output_type": "display_data"
    }
   ],
   "source": [
    "plot_tree(tree1, feature_names=X_train.columns.tolist(), class_names=['died', 'survived'])\n",
    "plt.show()"
   ]
  },
  {
   "cell_type": "markdown",
   "metadata": {},
   "source": [
    "#### 5. Run through steps 2-4 using a different max_depth value."
   ]
  },
  {
   "cell_type": "code",
   "execution_count": 259,
   "metadata": {},
   "outputs": [
    {
     "name": "stdout",
     "output_type": "stream",
     "text": [
      "Model score for tree2 on train subset is: 0.835\n",
      "Model score for tree2 on validate subset is: 0.785\n"
     ]
    }
   ],
   "source": [
    "# 1. Create the decision tree\n",
    "tree2 = DecisionTreeClassifier(max_depth=4, random_state=1234)\n",
    "# 2. Fit the object\n",
    "tree2.fit(X_train, y_train)\n",
    "# 3. Accuracy score of the \n",
    "print(f'Model score for tree2 on train subset is: {tree2.score(X_train, y_train):.4}')\n",
    "print(f'Model score for tree2 on validate subset is: {tree2.score(X_validate, y_validate):.4}')"
   ]
  },
  {
   "cell_type": "code",
   "execution_count": 252,
   "metadata": {},
   "outputs": [
    {
     "data": {
      "text/html": [
       "<div>\n",
       "<style scoped>\n",
       "    .dataframe tbody tr th:only-of-type {\n",
       "        vertical-align: middle;\n",
       "    }\n",
       "\n",
       "    .dataframe tbody tr th {\n",
       "        vertical-align: top;\n",
       "    }\n",
       "\n",
       "    .dataframe thead th {\n",
       "        text-align: right;\n",
       "    }\n",
       "</style>\n",
       "<table border=\"1\" class=\"dataframe\">\n",
       "  <thead>\n",
       "    <tr style=\"text-align: right;\">\n",
       "      <th></th>\n",
       "      <th>0</th>\n",
       "      <th>1</th>\n",
       "    </tr>\n",
       "  </thead>\n",
       "  <tbody>\n",
       "    <tr>\n",
       "      <th>0</th>\n",
       "      <td>301</td>\n",
       "      <td>6</td>\n",
       "    </tr>\n",
       "    <tr>\n",
       "      <th>1</th>\n",
       "      <td>76</td>\n",
       "      <td>114</td>\n",
       "    </tr>\n",
       "  </tbody>\n",
       "</table>\n",
       "</div>"
      ],
      "text/plain": [
       "     0    1\n",
       "0  301    6\n",
       "1   76  114"
      ]
     },
     "execution_count": 252,
     "metadata": {},
     "output_type": "execute_result"
    }
   ],
   "source": [
    "pd.DataFrame(confusion_matrix(y_train, tree2.predict(X_train)))"
   ]
  },
  {
   "cell_type": "code",
   "execution_count": 253,
   "metadata": {},
   "outputs": [
    {
     "data": {
      "text/html": [
       "<div>\n",
       "<style scoped>\n",
       "    .dataframe tbody tr th:only-of-type {\n",
       "        vertical-align: middle;\n",
       "    }\n",
       "\n",
       "    .dataframe tbody tr th {\n",
       "        vertical-align: top;\n",
       "    }\n",
       "\n",
       "    .dataframe thead th {\n",
       "        text-align: right;\n",
       "    }\n",
       "</style>\n",
       "<table border=\"1\" class=\"dataframe\">\n",
       "  <thead>\n",
       "    <tr style=\"text-align: right;\">\n",
       "      <th></th>\n",
       "      <th>0</th>\n",
       "      <th>1</th>\n",
       "      <th>accuracy</th>\n",
       "      <th>macro avg</th>\n",
       "      <th>weighted avg</th>\n",
       "    </tr>\n",
       "  </thead>\n",
       "  <tbody>\n",
       "    <tr>\n",
       "      <th>precision</th>\n",
       "      <td>0.798408</td>\n",
       "      <td>0.950000</td>\n",
       "      <td>0.83501</td>\n",
       "      <td>0.874204</td>\n",
       "      <td>0.856361</td>\n",
       "    </tr>\n",
       "    <tr>\n",
       "      <th>recall</th>\n",
       "      <td>0.980456</td>\n",
       "      <td>0.600000</td>\n",
       "      <td>0.83501</td>\n",
       "      <td>0.790228</td>\n",
       "      <td>0.835010</td>\n",
       "    </tr>\n",
       "    <tr>\n",
       "      <th>f1-score</th>\n",
       "      <td>0.880117</td>\n",
       "      <td>0.735484</td>\n",
       "      <td>0.83501</td>\n",
       "      <td>0.807800</td>\n",
       "      <td>0.824825</td>\n",
       "    </tr>\n",
       "    <tr>\n",
       "      <th>support</th>\n",
       "      <td>307.000000</td>\n",
       "      <td>190.000000</td>\n",
       "      <td>0.83501</td>\n",
       "      <td>497.000000</td>\n",
       "      <td>497.000000</td>\n",
       "    </tr>\n",
       "  </tbody>\n",
       "</table>\n",
       "</div>"
      ],
      "text/plain": [
       "                    0           1  accuracy   macro avg  weighted avg\n",
       "precision    0.798408    0.950000   0.83501    0.874204      0.856361\n",
       "recall       0.980456    0.600000   0.83501    0.790228      0.835010\n",
       "f1-score     0.880117    0.735484   0.83501    0.807800      0.824825\n",
       "support    307.000000  190.000000   0.83501  497.000000    497.000000"
      ]
     },
     "execution_count": 253,
     "metadata": {},
     "output_type": "execute_result"
    }
   ],
   "source": [
    "pd.DataFrame(classification_report(y_train, tree2.predict(X_train), output_dict=True))"
   ]
  },
  {
   "cell_type": "code",
   "execution_count": 254,
   "metadata": {},
   "outputs": [
    {
     "name": "stdout",
     "output_type": "stream",
     "text": [
      "Accuracy score is: 0.835\n",
      "True Positive Rate is: 60.56%\n",
      "False Positive Rate is: 1.21%\n",
      "True Negative Rate is: 22.94%\n",
      "False Negative Rate is: 15.29%\n",
      "Precision score is: 0.95\n",
      "Recall score is: 0.6\n",
      "F1-score score is: 0.7355\n",
      "Support score is: [307 190]\n"
     ]
    }
   ],
   "source": [
    "acc2 = accuracy_score(y_train, tree2.predict(X_train))\n",
    "print(f'Accuracy score is: {acc2:.4}')\n",
    "\n",
    "count = len(X_train)\n",
    "\n",
    "tp2 = 301\n",
    "fp2 = 6\n",
    "fn2 = 76\n",
    "tn2 = 114\n",
    "\n",
    "print(f'True Positive Rate is: {tp2/count:.2%}')\n",
    "print(f'False Positive Rate is: {fp2/count:.2%}')\n",
    "print(f'True Negative Rate is: {tn2/count:.2%}')\n",
    "print(f'False Negative Rate is: {fn2/count:.2%}')\n",
    "\n",
    "prec2 = precision_score(y_train, tree2.predict(X_train))\n",
    "print(f'Precision score is: {prec2:.4}')\n",
    "\n",
    "recall2 = recall_score(y_train, tree2.predict(X_train))\n",
    "print(f'Recall score is: {recall2:.4}')\n",
    "\n",
    "fscore2 = f1_score(y_train, tree2.predict(X_train))\n",
    "print(f'F1-score score is: {fscore2:.4}')\n",
    "\n",
    "pre2, rec2, f12, supp2 = precision_recall_fscore_support(y_train, tree2.predict(X_train))\n",
    "print(f'Support score is: {supp2}')"
   ]
  },
  {
   "cell_type": "markdown",
   "metadata": {},
   "source": [
    "#### 6. Which model performs better on your in-sample data?"
   ]
  },
  {
   "cell_type": "code",
   "execution_count": 258,
   "metadata": {},
   "outputs": [
    {
     "name": "stdout",
     "output_type": "stream",
     "text": [
      "Model score for tree1 on train subset is: 0.8189\n",
      "Model score for tree2 on train subset is: 0.835\n"
     ]
    }
   ],
   "source": [
    "print(f'Model score for tree1 on train subset is: {tree1.score(X_train, y_train):.4}')\n",
    "print(f'Model score for tree2 on train subset is: {tree2.score(X_train, y_train):.4}')"
   ]
  },
  {
   "cell_type": "markdown",
   "metadata": {},
   "source": [
    "#### 7. Which model performs best on your out-of-sample data, the validate set?"
   ]
  },
  {
   "cell_type": "code",
   "execution_count": 260,
   "metadata": {},
   "outputs": [
    {
     "name": "stdout",
     "output_type": "stream",
     "text": [
      "Model score for tree1 on validate subset is: 0.7897\n",
      "Model score for tree2 on validate subset is: 0.785\n"
     ]
    }
   ],
   "source": [
    "print(f'Model score for tree1 on validate subset is: {tree1.score(X_validate, y_validate):.4}')\n",
    "print(f'Model score for tree2 on validate subset is: {tree2.score(X_validate, y_validate):.4}')"
   ]
  },
  {
   "cell_type": "code",
   "execution_count": null,
   "metadata": {},
   "outputs": [],
   "source": []
  },
  {
   "cell_type": "code",
   "execution_count": 173,
   "metadata": {},
   "outputs": [
    {
     "name": "stdout",
     "output_type": "stream",
     "text": [
      "Train score: 0.7907\n",
      "Validate score: 0.7804\n"
     ]
    }
   ],
   "source": [
    "# 1. Create the decision tree\n",
    "tree4 = DecisionTreeClassifier(max_depth=2)\n",
    "# 2. Fit the object\n",
    "tree4.fit(X_train, y_train)\n",
    "# 3. Accuracy score of the \n",
    "print(f'Train score: %.4f' % tree4.score(X_train, y_train))\n",
    "print(f'Validate score: %.4f' % tree4.score(X_validate, y_validate))"
   ]
  },
  {
   "cell_type": "code",
   "execution_count": 174,
   "metadata": {},
   "outputs": [
    {
     "name": "stdout",
     "output_type": "stream",
     "text": [
      "Train score: 0.8189\n",
      "Validate score: 0.7897\n"
     ]
    }
   ],
   "source": [
    "# 1. Create the decision tree\n",
    "tree5 = DecisionTreeClassifier(max_leaf_nodes=6)\n",
    "# 2. Fit the object\n",
    "tree5.fit(X_train, y_train)\n",
    "# 3. Accuracy score of the \n",
    "print(f'Train score: %.4f' % tree5.score(X_train, y_train))\n",
    "print(f'Validate score: %.4f' % tree5.score(X_validate, y_validate))"
   ]
  },
  {
   "cell_type": "code",
   "execution_count": 175,
   "metadata": {},
   "outputs": [
    {
     "name": "stdout",
     "output_type": "stream",
     "text": [
      "Train score: 0.8189\n",
      "Validate score: 0.7850\n"
     ]
    }
   ],
   "source": [
    "# 1. Create the decision tree\n",
    "tree6 = DecisionTreeClassifier(max_leaf_nodes=8)\n",
    "# 2. Fit the object\n",
    "tree6.fit(X_train, y_train)\n",
    "# 3. Accuracy score of the \n",
    "print(f'Train score: %.4f' % tree6.score(X_train, y_train))\n",
    "print(f'Validate score: %.4f' % tree6.score(X_validate, y_validate))"
   ]
  },
  {
   "cell_type": "code",
   "execution_count": 176,
   "metadata": {},
   "outputs": [
    {
     "data": {
      "image/png": "[encoded data removed]",
      "text/plain": [
       "<Figure size 792x648 with 1 Axes>"
      ]
     },
     "metadata": {
      "needs_background": "light"
     },
     "output_type": "display_data"
    }
   ],
   "source": [
    "plot_tree(tree6, feature_names=X_train.columns.tolist(), class_names=['died', 'survived'])\n",
    "plt.show()"
   ]
  },
  {
   "cell_type": "code",
   "execution_count": 177,
   "metadata": {},
   "outputs": [
    {
     "data": {
      "text/plain": [
       "pclass      0.237248\n",
       "age         0.115004\n",
       "fare        0.056398\n",
       "sex_male    0.591350\n",
       "dtype: float64"
      ]
     },
     "execution_count": 177,
     "metadata": {},
     "output_type": "execute_result"
    }
   ],
   "source": [
    "pd.Series(dict(zip(X_train.columns, tree6.feature_importances_)))"
   ]
  },
  {
   "cell_type": "code",
   "execution_count": null,
   "metadata": {},
   "outputs": [],
   "source": []
  },
  {
   "cell_type": "markdown",
   "metadata": {},
   "source": [
    "## Random Forest Exercises\n",
    "\n",
    "### Continue working in your model file with titanic data to do the following:\n",
    "\n",
    "#### 1. Fit the Random Forest classifier to your training sample and transform (i.e. make predictions on the training sample) setting the random_state accordingly and setting min_samples_leaf = 1 and max_depth = 10."
   ]
  },
  {
   "cell_type": "code",
   "execution_count": 261,
   "metadata": {},
   "outputs": [
    {
     "data": {
      "text/plain": [
       "RandomForestClassifier(max_depth=10, random_state=1234)"
      ]
     },
     "execution_count": 261,
     "metadata": {},
     "output_type": "execute_result"
    }
   ],
   "source": [
    "rf1 = RandomForestClassifier(max_depth=10, min_samples_leaf=1, random_state=1234)\n",
    "\n",
    "rf1.fit(X_train, y_train)"
   ]
  },
  {
   "cell_type": "markdown",
   "metadata": {},
   "source": [
    "#### 2. Evaluate your results using the model score, confusion matrix, and classification report."
   ]
  },
  {
   "cell_type": "code",
   "execution_count": 263,
   "metadata": {},
   "outputs": [
    {
     "name": "stdout",
     "output_type": "stream",
     "text": [
      "Model score for rf1 on train subset is: 0.9638\n",
      "Model score for rf1 on validate subset is: 0.8178\n"
     ]
    }
   ],
   "source": [
    "print(f'Model score for rf1 on train subset is: {rf1.score(X_train, y_train):.4}')\n",
    "print(f'Model score for rf1 on validate subset is: {rf1.score(X_validate, y_validate):.4}')"
   ]
  },
  {
   "cell_type": "code",
   "execution_count": 264,
   "metadata": {},
   "outputs": [
    {
     "data": {
      "text/html": [
       "<div>\n",
       "<style scoped>\n",
       "    .dataframe tbody tr th:only-of-type {\n",
       "        vertical-align: middle;\n",
       "    }\n",
       "\n",
       "    .dataframe tbody tr th {\n",
       "        vertical-align: top;\n",
       "    }\n",
       "\n",
       "    .dataframe thead th {\n",
       "        text-align: right;\n",
       "    }\n",
       "</style>\n",
       "<table border=\"1\" class=\"dataframe\">\n",
       "  <thead>\n",
       "    <tr style=\"text-align: right;\">\n",
       "      <th></th>\n",
       "      <th>0</th>\n",
       "      <th>1</th>\n",
       "    </tr>\n",
       "  </thead>\n",
       "  <tbody>\n",
       "    <tr>\n",
       "      <th>0</th>\n",
       "      <td>305</td>\n",
       "      <td>2</td>\n",
       "    </tr>\n",
       "    <tr>\n",
       "      <th>1</th>\n",
       "      <td>16</td>\n",
       "      <td>174</td>\n",
       "    </tr>\n",
       "  </tbody>\n",
       "</table>\n",
       "</div>"
      ],
      "text/plain": [
       "     0    1\n",
       "0  305    2\n",
       "1   16  174"
      ]
     },
     "execution_count": 264,
     "metadata": {},
     "output_type": "execute_result"
    }
   ],
   "source": [
    "pd.DataFrame(confusion_matrix(y_train, rf1.predict(X_train)))"
   ]
  },
  {
   "cell_type": "code",
   "execution_count": 265,
   "metadata": {},
   "outputs": [
    {
     "data": {
      "text/html": [
       "<div>\n",
       "<style scoped>\n",
       "    .dataframe tbody tr th:only-of-type {\n",
       "        vertical-align: middle;\n",
       "    }\n",
       "\n",
       "    .dataframe tbody tr th {\n",
       "        vertical-align: top;\n",
       "    }\n",
       "\n",
       "    .dataframe thead th {\n",
       "        text-align: right;\n",
       "    }\n",
       "</style>\n",
       "<table border=\"1\" class=\"dataframe\">\n",
       "  <thead>\n",
       "    <tr style=\"text-align: right;\">\n",
       "      <th></th>\n",
       "      <th>0</th>\n",
       "      <th>1</th>\n",
       "      <th>accuracy</th>\n",
       "      <th>macro avg</th>\n",
       "      <th>weighted avg</th>\n",
       "    </tr>\n",
       "  </thead>\n",
       "  <tbody>\n",
       "    <tr>\n",
       "      <th>precision</th>\n",
       "      <td>0.950156</td>\n",
       "      <td>0.988636</td>\n",
       "      <td>0.963783</td>\n",
       "      <td>0.969396</td>\n",
       "      <td>0.964867</td>\n",
       "    </tr>\n",
       "    <tr>\n",
       "      <th>recall</th>\n",
       "      <td>0.993485</td>\n",
       "      <td>0.915789</td>\n",
       "      <td>0.963783</td>\n",
       "      <td>0.954637</td>\n",
       "      <td>0.963783</td>\n",
       "    </tr>\n",
       "    <tr>\n",
       "      <th>f1-score</th>\n",
       "      <td>0.971338</td>\n",
       "      <td>0.950820</td>\n",
       "      <td>0.963783</td>\n",
       "      <td>0.961079</td>\n",
       "      <td>0.963494</td>\n",
       "    </tr>\n",
       "    <tr>\n",
       "      <th>support</th>\n",
       "      <td>307.000000</td>\n",
       "      <td>190.000000</td>\n",
       "      <td>0.963783</td>\n",
       "      <td>497.000000</td>\n",
       "      <td>497.000000</td>\n",
       "    </tr>\n",
       "  </tbody>\n",
       "</table>\n",
       "</div>"
      ],
      "text/plain": [
       "                    0           1  accuracy   macro avg  weighted avg\n",
       "precision    0.950156    0.988636  0.963783    0.969396      0.964867\n",
       "recall       0.993485    0.915789  0.963783    0.954637      0.963783\n",
       "f1-score     0.971338    0.950820  0.963783    0.961079      0.963494\n",
       "support    307.000000  190.000000  0.963783  497.000000    497.000000"
      ]
     },
     "execution_count": 265,
     "metadata": {},
     "output_type": "execute_result"
    }
   ],
   "source": [
    "pd.DataFrame(classification_report(y_train, rf1.predict(X_train), output_dict=True))"
   ]
  },
  {
   "cell_type": "markdown",
   "metadata": {},
   "source": [
    "#### 3. Print and clearly label the following: Accuracy, true positive rate, false positive rate, true negative rate, false negative rate, precision, recall, f1-score, and support."
   ]
  },
  {
   "cell_type": "code",
   "execution_count": 266,
   "metadata": {},
   "outputs": [
    {
     "name": "stdout",
     "output_type": "stream",
     "text": [
      "Accuracy score is: 0.9638\n",
      "True Positive Rate is: 61.37%\n",
      "False Positive Rate is: 0.40%\n",
      "True Negative Rate is: 35.01%\n",
      "False Negative Rate is: 3.22%\n",
      "Precision score is: 0.9886\n",
      "Recall score is: 0.9158\n",
      "F1-score score is: 0.9508\n",
      "Support score is: [307 190]\n"
     ]
    }
   ],
   "source": [
    "rf_acc = accuracy_score(y_train, rf1.predict(X_train))\n",
    "print(f'Accuracy score is: {rf_acc:.4}')\n",
    "\n",
    "count = len(X_train)\n",
    "\n",
    "tp = 305\n",
    "fp = 2\n",
    "fn = 16\n",
    "tn = 174\n",
    "\n",
    "print(f'True Positive Rate is: {tp/count:.2%}')\n",
    "print(f'False Positive Rate is: {fp/count:.2%}')\n",
    "print(f'True Negative Rate is: {tn/count:.2%}')\n",
    "print(f'False Negative Rate is: {fn/count:.2%}')\n",
    "\n",
    "rf_prec = precision_score(y_train, rf1.predict(X_train))\n",
    "print(f'Precision score is: {rf_prec:.4}')\n",
    "\n",
    "rf_recall = recall_score(y_train, rf1.predict(X_train))\n",
    "print(f'Recall score is: {rf_recall:.4}')\n",
    "\n",
    "rf_fscore = f1_score(y_train, rf1.predict(X_train))\n",
    "print(f'F1-score score is: {rf_fscore:.4}')\n",
    "\n",
    "rf_pre, rf_rec, rf_f1, rf_supp = precision_recall_fscore_support(y_train, rf1.predict(X_train))\n",
    "print(f'Support score is: {rf_supp}')"
   ]
  },
  {
   "cell_type": "code",
   "execution_count": 268,
   "metadata": {},
   "outputs": [
    {
     "data": {
      "text/plain": [
       "pclass      0.119495\n",
       "age         0.253016\n",
       "fare        0.340223\n",
       "sex_male    0.287266\n",
       "dtype: float64"
      ]
     },
     "execution_count": 268,
     "metadata": {},
     "output_type": "execute_result"
    }
   ],
   "source": [
    "pd.Series(dict(zip(X_train.columns, rf1.feature_importances_)))"
   ]
  },
  {
   "cell_type": "code",
   "execution_count": null,
   "metadata": {},
   "outputs": [],
   "source": []
  },
  {
   "cell_type": "markdown",
   "metadata": {},
   "source": [
    "#### 4. Run through steps increasing your min_samples_leaf and decreasing your max_depth."
   ]
  },
  {
   "cell_type": "code",
   "execution_count": 285,
   "metadata": {},
   "outputs": [
    {
     "name": "stdout",
     "output_type": "stream",
     "text": [
      "Model score for rf2 on train subset is: 0.8813\n",
      "Model score for rf2 on validate subset is: 0.8084\n"
     ]
    }
   ],
   "source": [
    "rf2 = RandomForestClassifier(max_depth=10, min_samples_leaf=5, random_state=1234)\n",
    "\n",
    "rf2.fit(X_train, y_train)\n",
    "\n",
    "print(f'Model score for rf2 on train subset is: {rf2.score(X_train, y_train):.4}')\n",
    "print(f'Model score for rf2 on validate subset is: {rf2.score(X_validate, y_validate):.4}')"
   ]
  },
  {
   "cell_type": "code",
   "execution_count": 275,
   "metadata": {},
   "outputs": [
    {
     "data": {
      "text/html": [
       "<div>\n",
       "<style scoped>\n",
       "    .dataframe tbody tr th:only-of-type {\n",
       "        vertical-align: middle;\n",
       "    }\n",
       "\n",
       "    .dataframe tbody tr th {\n",
       "        vertical-align: top;\n",
       "    }\n",
       "\n",
       "    .dataframe thead th {\n",
       "        text-align: right;\n",
       "    }\n",
       "</style>\n",
       "<table border=\"1\" class=\"dataframe\">\n",
       "  <thead>\n",
       "    <tr style=\"text-align: right;\">\n",
       "      <th></th>\n",
       "      <th>0</th>\n",
       "      <th>1</th>\n",
       "    </tr>\n",
       "  </thead>\n",
       "  <tbody>\n",
       "    <tr>\n",
       "      <th>0</th>\n",
       "      <td>294</td>\n",
       "      <td>13</td>\n",
       "    </tr>\n",
       "    <tr>\n",
       "      <th>1</th>\n",
       "      <td>46</td>\n",
       "      <td>144</td>\n",
       "    </tr>\n",
       "  </tbody>\n",
       "</table>\n",
       "</div>"
      ],
      "text/plain": [
       "     0    1\n",
       "0  294   13\n",
       "1   46  144"
      ]
     },
     "execution_count": 275,
     "metadata": {},
     "output_type": "execute_result"
    }
   ],
   "source": [
    "pd.DataFrame(confusion_matrix(y_train, rf2.predict(X_train)))"
   ]
  },
  {
   "cell_type": "code",
   "execution_count": 276,
   "metadata": {},
   "outputs": [
    {
     "data": {
      "text/html": [
       "<div>\n",
       "<style scoped>\n",
       "    .dataframe tbody tr th:only-of-type {\n",
       "        vertical-align: middle;\n",
       "    }\n",
       "\n",
       "    .dataframe tbody tr th {\n",
       "        vertical-align: top;\n",
       "    }\n",
       "\n",
       "    .dataframe thead th {\n",
       "        text-align: right;\n",
       "    }\n",
       "</style>\n",
       "<table border=\"1\" class=\"dataframe\">\n",
       "  <thead>\n",
       "    <tr style=\"text-align: right;\">\n",
       "      <th></th>\n",
       "      <th>0</th>\n",
       "      <th>1</th>\n",
       "      <th>accuracy</th>\n",
       "      <th>macro avg</th>\n",
       "      <th>weighted avg</th>\n",
       "    </tr>\n",
       "  </thead>\n",
       "  <tbody>\n",
       "    <tr>\n",
       "      <th>precision</th>\n",
       "      <td>0.864706</td>\n",
       "      <td>0.917197</td>\n",
       "      <td>0.881288</td>\n",
       "      <td>0.890952</td>\n",
       "      <td>0.884773</td>\n",
       "    </tr>\n",
       "    <tr>\n",
       "      <th>recall</th>\n",
       "      <td>0.957655</td>\n",
       "      <td>0.757895</td>\n",
       "      <td>0.881288</td>\n",
       "      <td>0.857775</td>\n",
       "      <td>0.881288</td>\n",
       "    </tr>\n",
       "    <tr>\n",
       "      <th>f1-score</th>\n",
       "      <td>0.908810</td>\n",
       "      <td>0.829971</td>\n",
       "      <td>0.881288</td>\n",
       "      <td>0.869391</td>\n",
       "      <td>0.878670</td>\n",
       "    </tr>\n",
       "    <tr>\n",
       "      <th>support</th>\n",
       "      <td>307.000000</td>\n",
       "      <td>190.000000</td>\n",
       "      <td>0.881288</td>\n",
       "      <td>497.000000</td>\n",
       "      <td>497.000000</td>\n",
       "    </tr>\n",
       "  </tbody>\n",
       "</table>\n",
       "</div>"
      ],
      "text/plain": [
       "                    0           1  accuracy   macro avg  weighted avg\n",
       "precision    0.864706    0.917197  0.881288    0.890952      0.884773\n",
       "recall       0.957655    0.757895  0.881288    0.857775      0.881288\n",
       "f1-score     0.908810    0.829971  0.881288    0.869391      0.878670\n",
       "support    307.000000  190.000000  0.881288  497.000000    497.000000"
      ]
     },
     "execution_count": 276,
     "metadata": {},
     "output_type": "execute_result"
    }
   ],
   "source": [
    "pd.DataFrame(classification_report(y_train, rf2.predict(X_train), output_dict=True))"
   ]
  },
  {
   "cell_type": "code",
   "execution_count": 282,
   "metadata": {},
   "outputs": [
    {
     "name": "stdout",
     "output_type": "stream",
     "text": [
      "Accuracy score is: 0.8813\n",
      "True Positive Rate is: 59.15%\n",
      "False Positive Rate is: 2.62%\n",
      "True Negative Rate is: 28.97%\n",
      "False Negative Rate is: 9.26%\n",
      "Precision score is: 0.9172\n",
      "Recall score is: 0.7579\n",
      "F1-score score is: 0.83\n",
      "Support score is: [307 190]\n"
     ]
    }
   ],
   "source": [
    "rf2_acc = accuracy_score(y_train, rf2.predict(X_train))\n",
    "print(f'Accuracy score is: {rf2_acc:.4}')\n",
    "\n",
    "count = len(X_train)\n",
    "\n",
    "tp2 = 294\n",
    "fp2 = 13\n",
    "fn2 = 46\n",
    "tn2 = 144\n",
    "\n",
    "print(f'True Positive Rate is: {tp2/count:.2%}')\n",
    "print(f'False Positive Rate is: {fp2/count:.2%}')\n",
    "print(f'True Negative Rate is: {tn2/count:.2%}')\n",
    "print(f'False Negative Rate is: {fn2/count:.2%}')\n",
    "\n",
    "rf2_prec = precision_score(y_train, rf2.predict(X_train))\n",
    "print(f'Precision score is: {rf2_prec:.4}')\n",
    "\n",
    "rf2_recall = recall_score(y_train, rf2.predict(X_train))\n",
    "print(f'Recall score is: {rf2_recall:.4}')\n",
    "\n",
    "rf2_fscore = f1_score(y_train, rf2.predict(X_train))\n",
    "print(f'F1-score score is: {rf2_fscore:.4}')\n",
    "\n",
    "rf2_pre, rf2_rec, rf2_f1, rf2_supp = precision_recall_fscore_support(y_train, rf2.predict(X_train))\n",
    "print(f'Support score is: {rf2_supp}')"
   ]
  },
  {
   "cell_type": "code",
   "execution_count": 229,
   "metadata": {},
   "outputs": [
    {
     "data": {
      "text/plain": [
       "pclass      0.161692\n",
       "age         0.125291\n",
       "fare        0.242090\n",
       "sex_male    0.470927\n",
       "dtype: float64"
      ]
     },
     "execution_count": 229,
     "metadata": {},
     "output_type": "execute_result"
    }
   ],
   "source": [
    "pd.Series(dict(zip(X_train.columns, rf2.feature_importances_)))"
   ]
  },
  {
   "cell_type": "code",
   "execution_count": null,
   "metadata": {},
   "outputs": [],
   "source": []
  },
  {
   "cell_type": "code",
   "execution_count": null,
   "metadata": {},
   "outputs": [],
   "source": []
  },
  {
   "cell_type": "code",
   "execution_count": 286,
   "metadata": {},
   "outputs": [
    {
     "name": "stdout",
     "output_type": "stream",
     "text": [
      "Model score for rf3 on train subset is: 0.831\n",
      "Model score for rf3 on validate subset is: 0.7991\n"
     ]
    }
   ],
   "source": [
    "rf3 = RandomForestClassifier(max_depth=5, min_samples_leaf=10, random_state=1234)\n",
    "\n",
    "rf3.fit(X_train, y_train)\n",
    "\n",
    "print(f'Model score for rf3 on train subset is: {rf3.score(X_train, y_train):.4}')\n",
    "print(f'Model score for rf3 on validate subset is: {rf3.score(X_validate, y_validate):.4}')"
   ]
  },
  {
   "cell_type": "code",
   "execution_count": 280,
   "metadata": {},
   "outputs": [
    {
     "data": {
      "text/html": [
       "<div>\n",
       "<style scoped>\n",
       "    .dataframe tbody tr th:only-of-type {\n",
       "        vertical-align: middle;\n",
       "    }\n",
       "\n",
       "    .dataframe tbody tr th {\n",
       "        vertical-align: top;\n",
       "    }\n",
       "\n",
       "    .dataframe thead th {\n",
       "        text-align: right;\n",
       "    }\n",
       "</style>\n",
       "<table border=\"1\" class=\"dataframe\">\n",
       "  <thead>\n",
       "    <tr style=\"text-align: right;\">\n",
       "      <th></th>\n",
       "      <th>0</th>\n",
       "      <th>1</th>\n",
       "    </tr>\n",
       "  </thead>\n",
       "  <tbody>\n",
       "    <tr>\n",
       "      <th>0</th>\n",
       "      <td>296</td>\n",
       "      <td>11</td>\n",
       "    </tr>\n",
       "    <tr>\n",
       "      <th>1</th>\n",
       "      <td>73</td>\n",
       "      <td>117</td>\n",
       "    </tr>\n",
       "  </tbody>\n",
       "</table>\n",
       "</div>"
      ],
      "text/plain": [
       "     0    1\n",
       "0  296   11\n",
       "1   73  117"
      ]
     },
     "execution_count": 280,
     "metadata": {},
     "output_type": "execute_result"
    }
   ],
   "source": [
    "pd.DataFrame(confusion_matrix(y_train, rf3.predict(X_train)))"
   ]
  },
  {
   "cell_type": "code",
   "execution_count": 281,
   "metadata": {},
   "outputs": [
    {
     "data": {
      "text/html": [
       "<div>\n",
       "<style scoped>\n",
       "    .dataframe tbody tr th:only-of-type {\n",
       "        vertical-align: middle;\n",
       "    }\n",
       "\n",
       "    .dataframe tbody tr th {\n",
       "        vertical-align: top;\n",
       "    }\n",
       "\n",
       "    .dataframe thead th {\n",
       "        text-align: right;\n",
       "    }\n",
       "</style>\n",
       "<table border=\"1\" class=\"dataframe\">\n",
       "  <thead>\n",
       "    <tr style=\"text-align: right;\">\n",
       "      <th></th>\n",
       "      <th>0</th>\n",
       "      <th>1</th>\n",
       "      <th>accuracy</th>\n",
       "      <th>macro avg</th>\n",
       "      <th>weighted avg</th>\n",
       "    </tr>\n",
       "  </thead>\n",
       "  <tbody>\n",
       "    <tr>\n",
       "      <th>precision</th>\n",
       "      <td>0.802168</td>\n",
       "      <td>0.914062</td>\n",
       "      <td>0.830986</td>\n",
       "      <td>0.858115</td>\n",
       "      <td>0.844945</td>\n",
       "    </tr>\n",
       "    <tr>\n",
       "      <th>recall</th>\n",
       "      <td>0.964169</td>\n",
       "      <td>0.615789</td>\n",
       "      <td>0.830986</td>\n",
       "      <td>0.789979</td>\n",
       "      <td>0.830986</td>\n",
       "    </tr>\n",
       "    <tr>\n",
       "      <th>f1-score</th>\n",
       "      <td>0.875740</td>\n",
       "      <td>0.735849</td>\n",
       "      <td>0.830986</td>\n",
       "      <td>0.805794</td>\n",
       "      <td>0.822260</td>\n",
       "    </tr>\n",
       "    <tr>\n",
       "      <th>support</th>\n",
       "      <td>307.000000</td>\n",
       "      <td>190.000000</td>\n",
       "      <td>0.830986</td>\n",
       "      <td>497.000000</td>\n",
       "      <td>497.000000</td>\n",
       "    </tr>\n",
       "  </tbody>\n",
       "</table>\n",
       "</div>"
      ],
      "text/plain": [
       "                    0           1  accuracy   macro avg  weighted avg\n",
       "precision    0.802168    0.914062  0.830986    0.858115      0.844945\n",
       "recall       0.964169    0.615789  0.830986    0.789979      0.830986\n",
       "f1-score     0.875740    0.735849  0.830986    0.805794      0.822260\n",
       "support    307.000000  190.000000  0.830986  497.000000    497.000000"
      ]
     },
     "execution_count": 281,
     "metadata": {},
     "output_type": "execute_result"
    }
   ],
   "source": [
    "pd.DataFrame(classification_report(y_train, rf3.predict(X_train), output_dict=True))"
   ]
  },
  {
   "cell_type": "code",
   "execution_count": 283,
   "metadata": {},
   "outputs": [
    {
     "name": "stdout",
     "output_type": "stream",
     "text": [
      "Accuracy score is: 0.831\n",
      "True Positive Rate is: 59.15%\n",
      "False Positive Rate is: 2.62%\n",
      "True Negative Rate is: 28.97%\n",
      "False Negative Rate is: 9.26%\n",
      "Precision score is: 0.9141\n",
      "Recall score is: 0.6158\n",
      "F1-score score is: 0.7358\n",
      "Support score is: [307 190]\n"
     ]
    }
   ],
   "source": [
    "rf3_acc = accuracy_score(y_train, rf3.predict(X_train))\n",
    "print(f'Accuracy score is: {rf3_acc:.4}')\n",
    "\n",
    "count = len(X_train)\n",
    "\n",
    "tp3 = 294\n",
    "fp3 = 13\n",
    "fn3 = 46\n",
    "tn3 = 144\n",
    "\n",
    "print(f'True Positive Rate is: {tp3/count:.2%}')\n",
    "print(f'False Positive Rate is: {fp3/count:.2%}')\n",
    "print(f'True Negative Rate is: {tn3/count:.2%}')\n",
    "print(f'False Negative Rate is: {fn3/count:.2%}')\n",
    "\n",
    "rf3_prec = precision_score(y_train, rf3.predict(X_train))\n",
    "print(f'Precision score is: {rf3_prec:.4}')\n",
    "\n",
    "rf3_recall = recall_score(y_train, rf3.predict(X_train))\n",
    "print(f'Recall score is: {rf3_recall:.4}')\n",
    "\n",
    "rf3_fscore = f1_score(y_train, rf3.predict(X_train))\n",
    "print(f'F1-score score is: {rf3_fscore:.4}')\n",
    "\n",
    "rf3_pre, rf3_rec, rf3_f1, rf3_supp = precision_recall_fscore_support(y_train, rf3.predict(X_train))\n",
    "print(f'Support score is: {rf3_supp}')"
   ]
  },
  {
   "cell_type": "code",
   "execution_count": null,
   "metadata": {},
   "outputs": [],
   "source": []
  },
  {
   "cell_type": "markdown",
   "metadata": {},
   "source": [
    "#### 5. What are the differences in the evaluation metrics? Which performs better on your in-sample data? Why?\n",
    "\n",
    "-- the difference in evaluation metrics was increasing min_samples_leaf while decreasing max_depth, done by increments of 5\n",
    "\n",
    "-- rf1 - max_depth=10, min_samples_leaf=1 = rf1 on train subset is: 0.9638\n",
    "\n",
    "-- rf2 - max_depth=10, min_samples_leaf=5 = train subset is: 0.8813\n",
    "\n",
    "-- rf3 - max_depth=5, min_samples_leaf=10 = train subset is: 0.831\n",
    "\n",
    "-- rf1 performed the best on the in-sample data because it allowed for more branches and and resolved to a single leaf\n",
    "\n",
    "\n",
    "#### After making a few models, which one has the best performance (or closest metrics) on both train and validate?\n",
    "\n",
    "-- rf1 - max_depth=10, min_samples_leaf=1 = rf1 on train subset is: 0.9638, validate subset is: 0.8178\n",
    "\n",
    "-- rf2 - max_depth=10, min_samples_leaf=5 = train subset is: 0.8813, validate subset is: 0.8084\n",
    "\n",
    "-- rf3 - max_depth=5, min_samples_leaf=10 = train subset is: 0.831, validate subset is: 0.7991\n",
    "\n",
    "-- rf3 had the best performance on both train and validate subsets"
   ]
  },
  {
   "cell_type": "code",
   "execution_count": null,
   "metadata": {},
   "outputs": [],
   "source": []
  },
  {
   "cell_type": "markdown",
   "metadata": {},
   "source": [
    "## KNN Exercises\n",
    "\n",
    "### Continue working in your model file with the titanic dataset.\n",
    "\n",
    "#### 1. Fit a K-Nearest Neighbors classifier to your training sample and transform (i.e. make predictions on the training sample)"
   ]
  },
  {
   "cell_type": "code",
   "execution_count": 288,
   "metadata": {},
   "outputs": [],
   "source": [
    "from sklearn.neighbors import KNeighborsClassifier"
   ]
  },
  {
   "cell_type": "code",
   "execution_count": 349,
   "metadata": {},
   "outputs": [
    {
     "data": {
      "text/plain": [
       "KNeighborsClassifier(n_neighbors=1)"
      ]
     },
     "execution_count": 349,
     "metadata": {},
     "output_type": "execute_result"
    }
   ],
   "source": [
    "knn1 = KNeighborsClassifier(n_neighbors=1, weights='uniform')\n",
    "\n",
    "knn1.fit(X_train, y_train)"
   ]
  },
  {
   "cell_type": "code",
   "execution_count": 350,
   "metadata": {},
   "outputs": [],
   "source": [
    "y_pred_knn1 = knn1.predict(X_train)"
   ]
  },
  {
   "cell_type": "code",
   "execution_count": 351,
   "metadata": {},
   "outputs": [],
   "source": [
    "y_pred_proba_knn1 = knn1.predict_proba(X_train)"
   ]
  },
  {
   "cell_type": "code",
   "execution_count": 352,
   "metadata": {},
   "outputs": [
    {
     "name": "stdout",
     "output_type": "stream",
     "text": [
      "Model score for knn1 on train subset is: 0.9879\n",
      "Model score for knn1 on validate subset is: 0.7103\n"
     ]
    }
   ],
   "source": [
    "print(f'Model score for knn1 on train subset is: {knn1.score(X_train, y_train):.4}')\n",
    "print(f'Model score for knn1 on validate subset is: {knn1.score(X_validate, y_validate):.4}')"
   ]
  },
  {
   "cell_type": "code",
   "execution_count": 353,
   "metadata": {},
   "outputs": [
    {
     "name": "stdout",
     "output_type": "stream",
     "text": [
      "[[304   3]\n",
      " [  3 187]]\n"
     ]
    }
   ],
   "source": [
    "print(confusion_matrix(y_train, y_pred_knn1))"
   ]
  },
  {
   "cell_type": "code",
   "execution_count": 354,
   "metadata": {},
   "outputs": [
    {
     "name": "stdout",
     "output_type": "stream",
     "text": [
      "              precision    recall  f1-score   support\n",
      "\n",
      "           0       0.99      0.99      0.99       307\n",
      "           1       0.98      0.98      0.98       190\n",
      "\n",
      "    accuracy                           0.99       497\n",
      "   macro avg       0.99      0.99      0.99       497\n",
      "weighted avg       0.99      0.99      0.99       497\n",
      "\n"
     ]
    }
   ],
   "source": [
    "print(classification_report(y_train, y_pred_knn1))"
   ]
  },
  {
   "cell_type": "code",
   "execution_count": 355,
   "metadata": {},
   "outputs": [
    {
     "name": "stdout",
     "output_type": "stream",
     "text": [
      "Accuracy score is: 0.9879\n",
      "True Positive Rate is: 61.17%\n",
      "False Positive Rate is: 0.60%\n",
      "True Negative Rate is: 37.63%\n",
      "False Negative Rate is: 0.60%\n",
      "Precision score is: 0.9842\n",
      "Recall score is: 0.9842\n",
      "F1-score score is: 0.9842\n",
      "Support score is: [307 190]\n"
     ]
    }
   ],
   "source": [
    "knn1_acc = accuracy_score(y_train, knn1.predict(X_train))\n",
    "print(f'Accuracy score is: {knn1_acc:.4}')\n",
    "\n",
    "count = len(X_train)\n",
    "\n",
    "tp_knn1 = 304\n",
    "fp_knn1 = 3\n",
    "fn_knn1 = 3\n",
    "tn_knn1 = 187\n",
    "\n",
    "print(f'True Positive Rate is: {tp_knn1/count:.2%}')\n",
    "print(f'False Positive Rate is: {fp_knn1/count:.2%}')\n",
    "print(f'True Negative Rate is: {tn_knn1/count:.2%}')\n",
    "print(f'False Negative Rate is: {fn_knn1/count:.2%}')\n",
    "\n",
    "knn1_prec = precision_score(y_train, knn1.predict(X_train))\n",
    "print(f'Precision score is: {knn1_prec:.4}')\n",
    "\n",
    "knn1_recall = recall_score(y_train, knn1.predict(X_train))\n",
    "print(f'Recall score is: {knn1_recall:.4}')\n",
    "\n",
    "knn1_fscore = f1_score(y_train, knn1.predict(X_train))\n",
    "print(f'F1-score score is: {knn1_fscore:.4}')\n",
    "\n",
    "knn1_pre, knn1_rec, knn1_f1, knn1_supp = precision_recall_fscore_support(y_train, knn1.predict(X_train))\n",
    "print(f'Support score is: {knn1_supp}')"
   ]
  },
  {
   "cell_type": "markdown",
   "metadata": {},
   "source": [
    "#### 4. Run through steps 2-4 setting k to 10"
   ]
  },
  {
   "cell_type": "code",
   "execution_count": 356,
   "metadata": {},
   "outputs": [
    {
     "data": {
      "text/plain": [
       "KNeighborsClassifier(n_neighbors=10)"
      ]
     },
     "execution_count": 356,
     "metadata": {},
     "output_type": "execute_result"
    }
   ],
   "source": [
    "knn2 = KNeighborsClassifier(n_neighbors=10, weights='uniform')\n",
    "\n",
    "knn2.fit(X_train, y_train)"
   ]
  },
  {
   "cell_type": "code",
   "execution_count": 357,
   "metadata": {},
   "outputs": [],
   "source": [
    "y_pred_knn2 = knn2.predict(X_train)"
   ]
  },
  {
   "cell_type": "code",
   "execution_count": 358,
   "metadata": {},
   "outputs": [],
   "source": [
    "y_pred_proba_knn2 = knn2.predict_proba(X_train)"
   ]
  },
  {
   "cell_type": "code",
   "execution_count": 360,
   "metadata": {},
   "outputs": [
    {
     "name": "stdout",
     "output_type": "stream",
     "text": [
      "Model score for knn1on train subset is: 0.7565\n",
      "Model score for knn1 on validate subset is: 0.6869\n"
     ]
    }
   ],
   "source": [
    "print(f'Model score for knn1on train subset is: {knn2.score(X_train, y_train):.4}')\n",
    "print(f'Model score for knn1 on validate subset is: {knn2.score(X_validate, y_validate):.4}')"
   ]
  },
  {
   "cell_type": "code",
   "execution_count": 361,
   "metadata": {},
   "outputs": [
    {
     "name": "stdout",
     "output_type": "stream",
     "text": [
      "[[278  29]\n",
      " [ 92  98]]\n"
     ]
    }
   ],
   "source": [
    "print(confusion_matrix(y_train, y_pred_knn2))"
   ]
  },
  {
   "cell_type": "code",
   "execution_count": 362,
   "metadata": {},
   "outputs": [
    {
     "name": "stdout",
     "output_type": "stream",
     "text": [
      "              precision    recall  f1-score   support\n",
      "\n",
      "           0       0.75      0.91      0.82       307\n",
      "           1       0.77      0.52      0.62       190\n",
      "\n",
      "    accuracy                           0.76       497\n",
      "   macro avg       0.76      0.71      0.72       497\n",
      "weighted avg       0.76      0.76      0.74       497\n",
      "\n"
     ]
    }
   ],
   "source": [
    "print(classification_report(y_train, y_pred_knn2))"
   ]
  },
  {
   "cell_type": "code",
   "execution_count": 363,
   "metadata": {},
   "outputs": [
    {
     "name": "stdout",
     "output_type": "stream",
     "text": [
      "Accuracy score is: 0.7565\n",
      "True Positive Rate is: 55.94%\n",
      "False Positive Rate is: 5.84%\n",
      "True Negative Rate is: 19.72%\n",
      "False Negative Rate is: 18.51%\n",
      "Precision score is: 0.7717\n",
      "Recall score is: 0.5158\n",
      "F1-score score is: 0.6183\n",
      "Support score is: [307 190]\n"
     ]
    }
   ],
   "source": [
    "knn2_acc = accuracy_score(y_train, knn2.predict(X_train))\n",
    "print(f'Accuracy score is: {knn2_acc:.4}')\n",
    "\n",
    "count = len(X_train)\n",
    "\n",
    "tp_knn2 = 278\n",
    "fp_knn2 = 29\n",
    "fn_knn2 = 92\n",
    "tn_knn2 = 98\n",
    "\n",
    "print(f'True Positive Rate is: {tp_knn2/count:.2%}')\n",
    "print(f'False Positive Rate is: {fp_knn2/count:.2%}')\n",
    "print(f'True Negative Rate is: {tn_knn2/count:.2%}')\n",
    "print(f'False Negative Rate is: {fn_knn2/count:.2%}')\n",
    "\n",
    "knn2_prec = precision_score(y_train, knn2.predict(X_train))\n",
    "print(f'Precision score is: {knn2_prec:.4}')\n",
    "\n",
    "knn2_recall = recall_score(y_train, knn2.predict(X_train))\n",
    "print(f'Recall score is: {knn2_recall:.4}')\n",
    "\n",
    "knn2_fscore = f1_score(y_train, knn2.predict(X_train))\n",
    "print(f'F1-score score is: {knn2_fscore:.4}')\n",
    "\n",
    "knn2_pre, knn2_rec, knn2_f1, knn2_supp = precision_recall_fscore_support(y_train, knn2.predict(X_train))\n",
    "print(f'Support score is: {knn2_supp}')"
   ]
  },
  {
   "cell_type": "markdown",
   "metadata": {},
   "source": [
    "#### 5. Run through setps 2-4 setting k to 20"
   ]
  },
  {
   "cell_type": "code",
   "execution_count": 316,
   "metadata": {},
   "outputs": [
    {
     "data": {
      "text/plain": [
       "KNeighborsClassifier(n_neighbors=20)"
      ]
     },
     "execution_count": 316,
     "metadata": {},
     "output_type": "execute_result"
    }
   ],
   "source": [
    "knn3 = KNeighborsClassifier(n_neighbors=20, weights='uniform')\n",
    "\n",
    "knn3.fit(X_train, y_train)"
   ]
  },
  {
   "cell_type": "code",
   "execution_count": 317,
   "metadata": {},
   "outputs": [],
   "source": [
    "y_pred_knn3 = knn3.predict(X_train)"
   ]
  },
  {
   "cell_type": "code",
   "execution_count": 318,
   "metadata": {},
   "outputs": [],
   "source": [
    "y_pred_proba_knn3 = knn3.predict_proba(X_train)"
   ]
  },
  {
   "cell_type": "code",
   "execution_count": 365,
   "metadata": {},
   "outputs": [
    {
     "name": "stdout",
     "output_type": "stream",
     "text": [
      "Model score for knn1on train subset is: 0.7183\n",
      "Model score for knn1 on validate subset is: 0.7056\n"
     ]
    }
   ],
   "source": [
    "print(f'Model score for knn1 on train subset is: {knn3.score(X_train, y_train):.4}')\n",
    "print(f'Model score for knn1 on validate subset is: {knn3.score(X_validate, y_validate):.4}')"
   ]
  },
  {
   "cell_type": "code",
   "execution_count": 366,
   "metadata": {},
   "outputs": [
    {
     "name": "stdout",
     "output_type": "stream",
     "text": [
      "[[281  26]\n",
      " [114  76]]\n"
     ]
    }
   ],
   "source": [
    "print(confusion_matrix(y_train, y_pred_knn3))"
   ]
  },
  {
   "cell_type": "code",
   "execution_count": 367,
   "metadata": {},
   "outputs": [
    {
     "name": "stdout",
     "output_type": "stream",
     "text": [
      "              precision    recall  f1-score   support\n",
      "\n",
      "           0       0.71      0.92      0.80       307\n",
      "           1       0.75      0.40      0.52       190\n",
      "\n",
      "    accuracy                           0.72       497\n",
      "   macro avg       0.73      0.66      0.66       497\n",
      "weighted avg       0.72      0.72      0.69       497\n",
      "\n"
     ]
    }
   ],
   "source": [
    "print(classification_report(y_train, y_pred_knn3))"
   ]
  },
  {
   "cell_type": "code",
   "execution_count": 368,
   "metadata": {},
   "outputs": [
    {
     "name": "stdout",
     "output_type": "stream",
     "text": [
      "Accuracy score is: 0.7183\n",
      "True Positive Rate is: 56.54%\n",
      "False Positive Rate is: 5.23%\n",
      "True Negative Rate is: 15.29%\n",
      "False Negative Rate is: 22.94%\n",
      "Precision score is: 0.7451\n",
      "Recall score is: 0.4\n",
      "F1-score score is: 0.5205\n",
      "Support score is: [307 190]\n"
     ]
    }
   ],
   "source": [
    "knn3_acc = accuracy_score(y_train, knn3.predict(X_train))\n",
    "print(f'Accuracy score is: {knn3_acc:.4}')\n",
    "\n",
    "count = len(X_train)\n",
    "\n",
    "tp_knn3 = 281\n",
    "fp_knn3 = 26\n",
    "fn_knn3 = 114\n",
    "tn_knn3 = 76\n",
    "\n",
    "print(f'True Positive Rate is: {tp_knn3/count:.2%}')\n",
    "print(f'False Positive Rate is: {fp_knn3/count:.2%}')\n",
    "print(f'True Negative Rate is: {tn_knn3/count:.2%}')\n",
    "print(f'False Negative Rate is: {fn_knn3/count:.2%}')\n",
    "\n",
    "knn3_prec = precision_score(y_train, knn3.predict(X_train))\n",
    "print(f'Precision score is: {knn3_prec:.4}')\n",
    "\n",
    "knn3_recall = recall_score(y_train, knn3.predict(X_train))\n",
    "print(f'Recall score is: {knn3_recall:.4}')\n",
    "\n",
    "knn3_fscore = f1_score(y_train, knn3.predict(X_train))\n",
    "print(f'F1-score score is: {knn3_fscore:.4}')\n",
    "\n",
    "knn3_pre, knn3_rec, knn3_f1, knn3_supp = precision_recall_fscore_support(y_train, knn3.predict(X_train))\n",
    "print(f'Support score is: {knn3_supp}')"
   ]
  },
  {
   "cell_type": "code",
   "execution_count": null,
   "metadata": {},
   "outputs": [],
   "source": [
    "# X_cols = ['pclass', 'age', 'fare', 'sex_male']\n",
    "# y_col = 'survived'"
   ]
  },
  {
   "cell_type": "code",
   "execution_count": 371,
   "metadata": {},
   "outputs": [
    {
     "name": "stdout",
     "output_type": "stream",
     "text": [
      " 1: 98.79%\n",
      " 2: 82.90%\n",
      " 3: 85.11%\n",
      " 4: 79.07%\n",
      " 5: 77.87%\n",
      " 6: 76.46%\n",
      " 7: 75.86%\n",
      " 8: 74.65%\n",
      " 9: 75.05%\n",
      "10: 75.65%\n",
      "11: 74.65%\n",
      "12: 73.84%\n"
     ]
    }
   ],
   "source": [
    "for k in range(1, 13):\n",
    "    knn = KNeighborsClassifier(n_neighbors=k)\n",
    "    knn.fit(X_train, y_train)\n",
    "    accuracy = knn.score(X_train, y_train)\n",
    "    print(f'{k:2d}: {accuracy:.2%}')"
   ]
  },
  {
   "cell_type": "code",
   "execution_count": 372,
   "metadata": {},
   "outputs": [
    {
     "name": "stdout",
     "output_type": "stream",
     "text": [
      " 1: 71.03%\n",
      " 2: 66.36%\n",
      " 3: 71.03%\n",
      " 4: 68.69%\n",
      " 5: 72.43%\n",
      " 6: 68.69%\n",
      " 7: 70.09%\n",
      " 8: 69.16%\n",
      " 9: 70.09%\n",
      "10: 68.69%\n",
      "11: 71.50%\n",
      "12: 67.76%\n"
     ]
    }
   ],
   "source": [
    "for k in range(1, 13):\n",
    "    knn = KNeighborsClassifier(n_neighbors=k)\n",
    "    knn.fit(X_train, y_train)\n",
    "    accuracy = knn.score(X_validate, y_validate)\n",
    "    print(f'{k:2d}: {accuracy:.2%}')"
   ]
  },
  {
   "cell_type": "code",
   "execution_count": 384,
   "metadata": {},
   "outputs": [
    {
     "name": "stdout",
     "output_type": "stream",
     "text": [
      "Model: 1 when k is 1\n",
      "training score: 98.79%\n",
      "validate score: 71.03%\n",
      "__________________________________________________________\n",
      "Model: 2 when k is 2\n",
      "training score: 82.90%\n",
      "validate score: 66.36%\n",
      "__________________________________________________________\n",
      "Model: 3 when k is 3\n",
      "training score: 85.11%\n",
      "validate score: 71.03%\n",
      "__________________________________________________________\n",
      "Model: 4 when k is 4\n",
      "training score: 79.07%\n",
      "validate score: 68.69%\n",
      "__________________________________________________________\n",
      "Model: 5 when k is 5\n",
      "training score: 77.87%\n",
      "validate score: 72.43%\n",
      "__________________________________________________________\n",
      "Model: 6 when k is 6\n",
      "training score: 76.46%\n",
      "validate score: 68.69%\n",
      "__________________________________________________________\n",
      "Model: 7 when k is 7\n",
      "training score: 75.86%\n",
      "validate score: 70.09%\n",
      "__________________________________________________________\n",
      "Model: 8 when k is 8\n",
      "training score: 74.65%\n",
      "validate score: 69.16%\n",
      "__________________________________________________________\n",
      "Model: 9 when k is 9\n",
      "training score: 75.05%\n",
      "validate score: 70.09%\n",
      "__________________________________________________________\n",
      "Model: 10 when k is 10\n",
      "training score: 75.65%\n",
      "validate score: 68.69%\n",
      "__________________________________________________________\n",
      "Model: 11 when k is 11\n",
      "training score: 74.65%\n",
      "validate score: 71.50%\n",
      "__________________________________________________________\n",
      "Model: 12 when k is 12\n",
      "training score: 73.84%\n",
      "validate score: 67.76%\n",
      "__________________________________________________________\n"
     ]
    }
   ],
   "source": [
    "for k in range(1, 13):\n",
    "    knn = KNeighborsClassifier(n_neighbors=k)\n",
    "    knn.fit(X_train, y_train)\n",
    "    accuracy = knn.score(X_validate, y_validate)\n",
    "    print(f'Model: {k} when k is {k}')\n",
    "    print(f'training score: {knn.score(X_train, y_train):.2%}')\n",
    "    print(f'validate score: {knn.score(X_validate, y_validate):.2%}')\n",
    "    print('__________________________________________________________')"
   ]
  },
  {
   "cell_type": "code",
   "execution_count": null,
   "metadata": {},
   "outputs": [],
   "source": []
  },
  {
   "cell_type": "code",
   "execution_count": null,
   "metadata": {},
   "outputs": [],
   "source": []
  },
  {
   "cell_type": "code",
   "execution_count": 381,
   "metadata": {},
   "outputs": [],
   "source": [
    "def metrics1(model):\n",
    "    \n",
    "    print(f'Model score for {model} on train subset is: {model.score(X_train, y_train):.4}')\n",
    "    print(f'Model score for {model} on validate subset is: {model.score(X_validate, y_validate):.4}')\n",
    "    \n",
    "    \n",
    "    \n",
    "    matrix = confusion_matrix(df.survived, model.predict(X))\n",
    "    \n",
    "    tpr = matrix[1,1] / (matrix[1,1] + matrix[1,0])\n",
    "    fpr = matrix[0,1] / (matrix[0,1] + matrix[0,0])\n",
    "    tnr = matrix[0,0] / (matrix[0,0] + matrix[0,1])\n",
    "    fnr = matrix[1,0] / (matrix[1,1] + matrix[1,0])\n",
    "    \n",
    "    print(f'True Positive Rate is: {tpr/count:.2%}')\n",
    "    print(f'False Positive Rate is: {fpr/count:.2%}')\n",
    "    print(f'True Negative Rate is: {tnr/count:.2%}')\n",
    "    print(f'False Negative Rate is: {fnr/count:.2%}')"
   ]
  },
  {
   "cell_type": "code",
   "execution_count": 382,
   "metadata": {},
   "outputs": [
    {
     "name": "stdout",
     "output_type": "stream",
     "text": [
      "Model score for KNeighborsClassifier(n_neighbors=1) on train subset is: 0.9879\n",
      "Model score for KNeighborsClassifier(n_neighbors=1) on validate subset is: 0.7103\n"
     ]
    },
    {
     "ename": "NameError",
     "evalue": "name 'df' is not defined",
     "output_type": "error",
     "traceback": [
      "\u001b[0;31m---------------------------------------------------------------------------\u001b[0m",
      "\u001b[0;31mNameError\u001b[0m                                 Traceback (most recent call last)",
      "\u001b[0;32m<ipython-input-382-9d5d785cc59a>\u001b[0m in \u001b[0;36m<module>\u001b[0;34m\u001b[0m\n\u001b[0;32m----> 1\u001b[0;31m \u001b[0mmetrics1\u001b[0m\u001b[0;34m(\u001b[0m\u001b[0mknn1\u001b[0m\u001b[0;34m)\u001b[0m\u001b[0;34m\u001b[0m\u001b[0;34m\u001b[0m\u001b[0m\n\u001b[0m",
      "\u001b[0;32m<ipython-input-381-a87fab591ec2>\u001b[0m in \u001b[0;36mmetrics1\u001b[0;34m(model)\u001b[0m\n\u001b[1;32m      4\u001b[0m     \u001b[0mprint\u001b[0m\u001b[0;34m(\u001b[0m\u001b[0;34mf'Model score for {model} on validate subset is: {model.score(X_validate, y_validate):.4}'\u001b[0m\u001b[0;34m)\u001b[0m\u001b[0;34m\u001b[0m\u001b[0;34m\u001b[0m\u001b[0m\n\u001b[1;32m      5\u001b[0m \u001b[0;34m\u001b[0m\u001b[0m\n\u001b[0;32m----> 6\u001b[0;31m     \u001b[0mmatrix\u001b[0m \u001b[0;34m=\u001b[0m \u001b[0mconfusion_matrix\u001b[0m\u001b[0;34m(\u001b[0m\u001b[0mdf\u001b[0m\u001b[0;34m.\u001b[0m\u001b[0msurvived\u001b[0m\u001b[0;34m,\u001b[0m \u001b[0mmodel\u001b[0m\u001b[0;34m.\u001b[0m\u001b[0mpredict\u001b[0m\u001b[0;34m(\u001b[0m\u001b[0mX\u001b[0m\u001b[0;34m)\u001b[0m\u001b[0;34m)\u001b[0m\u001b[0;34m\u001b[0m\u001b[0;34m\u001b[0m\u001b[0m\n\u001b[0m\u001b[1;32m      7\u001b[0m \u001b[0;34m\u001b[0m\u001b[0m\n\u001b[1;32m      8\u001b[0m     \u001b[0mtpr\u001b[0m \u001b[0;34m=\u001b[0m \u001b[0mmatrix\u001b[0m\u001b[0;34m[\u001b[0m\u001b[0;36m1\u001b[0m\u001b[0;34m,\u001b[0m\u001b[0;36m1\u001b[0m\u001b[0;34m]\u001b[0m \u001b[0;34m/\u001b[0m \u001b[0;34m(\u001b[0m\u001b[0mmatrix\u001b[0m\u001b[0;34m[\u001b[0m\u001b[0;36m1\u001b[0m\u001b[0;34m,\u001b[0m\u001b[0;36m1\u001b[0m\u001b[0;34m]\u001b[0m \u001b[0;34m+\u001b[0m \u001b[0mmatrix\u001b[0m\u001b[0;34m[\u001b[0m\u001b[0;36m1\u001b[0m\u001b[0;34m,\u001b[0m\u001b[0;36m0\u001b[0m\u001b[0;34m]\u001b[0m\u001b[0;34m)\u001b[0m\u001b[0;34m\u001b[0m\u001b[0;34m\u001b[0m\u001b[0m\n",
      "\u001b[0;31mNameError\u001b[0m: name 'df' is not defined"
     ]
    }
   ],
   "source": [
    "metrics1(knn1)"
   ]
  },
  {
   "cell_type": "code",
   "execution_count": null,
   "metadata": {},
   "outputs": [],
   "source": []
  },
  {
   "cell_type": "code",
   "execution_count": 195,
   "metadata": {},
   "outputs": [],
   "source": [
    "def run_metrics(model, data_set):\n",
    "    \"\"\"\n",
    "    This function takes in a model and ouputs metrics. \n",
    "    model = name of class model\n",
    "    data_set = train, validate, test (AS A STRING)\n",
    "    Will output the Precision Score, the classification report, and the confusion matrix\n",
    "    It is advisable to print the name of the model you're working with before hand for clarity\n",
    "    i.e. print('Metrics for Model 1 with Train data\\n')\n",
    "    \"\"\"\n",
    "    if data_set == 'train':\n",
    "        \n",
    "        X = X_train\n",
    "        y = y_train\n",
    "        df = train\n",
    "    \n",
    "    if data_set == 'validate':\n",
    "        X = X_validate\n",
    "        y = y_validate\n",
    "        df = validate\n",
    "    \n",
    "    if data_set == 'test':\n",
    "        X = X_test\n",
    "        y = y_test\n",
    "        df = test\n",
    "    \n",
    "    score = model.score(X, y)\n",
    "    \n",
    "    matrix = confusion_matrix(df.survived, model.predict(X))\n",
    "    \n",
    "    tpr = matrix[1,1] / (matrix[1,1] + matrix[1,0])\n",
    "    fpr = matrix[0,1] / (matrix[0,1] + matrix[0,0])\n",
    "    tnr = matrix[0,0] / (matrix[0,0] + matrix[0,1])\n",
    "    fnr = matrix[1,0] / (matrix[1,1] + matrix[1,0])\n",
    "    print(f'{data_set} data set accuracy score: {score:.2%}')\n",
    "    class_report = classification_report(df.survived, model.predict(X), zero_division=True)\n",
    "    print('-------------------------------')\n",
    "    print(f'classification report')\n",
    "    print(class_report)\n",
    "    print ('-------------------------------')\n",
    "    print('')\n",
    "    print('confusion matrix')\n",
    "    print(matrix)\n",
    "    print(' ')\n",
    "    print(f'{data_set} data set model metrics')\n",
    "    print('---------------------------------')\n",
    "    print(f'True positive rate for the model is {tpr:.2%}')\n",
    "    print(f'False positive rate for the model is  {fpr:.2%}')\n",
    "    print(f'True negative rate for the model is {tnr:.2%}')\n",
    "    print(f'False negative rate for the model is {fnr:.2%}')"
   ]
  },
  {
   "cell_type": "code",
   "execution_count": null,
   "metadata": {},
   "outputs": [],
   "source": []
  },
  {
   "cell_type": "code",
   "execution_count": 122,
   "metadata": {},
   "outputs": [
    {
     "name": "stdout",
     "output_type": "stream",
     "text": [
      "Metrics for Model 1 with Train data\n",
      "\n",
      "train data set accuracy score: 91.15%\n",
      "-------------------------------\n",
      "classification report\n",
      "              precision    recall  f1-score   support\n",
      "\n",
      "           0       0.90      0.96      0.93       307\n",
      "           1       0.93      0.83      0.88       190\n",
      "\n",
      "    accuracy                           0.91       497\n",
      "   macro avg       0.92      0.90      0.90       497\n",
      "weighted avg       0.91      0.91      0.91       497\n",
      "\n",
      "-------------------------------\n",
      "\n",
      "confusion matrix\n",
      "[[296  11]\n",
      " [ 33 157]]\n",
      " \n",
      "train data set model metrics\n",
      "---------------------------------\n",
      "True positive rate for the model is 82.63%\n",
      "False positive rate for the model is  3.58%\n",
      "True negative rate for the model is 96.42%\n",
      "False negative rate for the model is 17.37%\n"
     ]
    }
   ],
   "source": [
    "print('Metrics for Model 1 with Train data\\n')\n",
    "run_metrics(rf1, 'train')"
   ]
  },
  {
   "cell_type": "code",
   "execution_count": 130,
   "metadata": {},
   "outputs": [
    {
     "name": "stdout",
     "output_type": "stream",
     "text": [
      "Metrics for Model 1 with Train data\n",
      "\n",
      "validate data set accuracy score: 81.31%\n",
      "-------------------------------\n",
      "classification report\n",
      "              precision    recall  f1-score   support\n",
      "\n",
      "           0       0.84      0.86      0.85       132\n",
      "           1       0.77      0.73      0.75        82\n",
      "\n",
      "    accuracy                           0.81       214\n",
      "   macro avg       0.80      0.80      0.80       214\n",
      "weighted avg       0.81      0.81      0.81       214\n",
      "\n",
      "-------------------------------\n",
      "\n",
      "confusion matrix\n",
      "[[114  18]\n",
      " [ 22  60]]\n",
      " \n",
      "validate data set model metrics\n",
      "---------------------------------\n",
      "True positive rate for the model is 73.17%\n",
      "False positive rate for the model is  13.64%\n",
      "True negative rate for the model is 86.36%\n",
      "False negative rate for the model is 26.83%\n"
     ]
    }
   ],
   "source": [
    "print('Metrics for Model 1 with Train data\\n')\n",
    "run_metrics(rf1, 'validate')"
   ]
  },
  {
   "cell_type": "code",
   "execution_count": null,
   "metadata": {},
   "outputs": [],
   "source": []
  }
 ],
 "metadata": {
  "kernelspec": {
   "display_name": "Python 3",
   "language": "python",
   "name": "python3"
  },
  "language_info": {
   "codemirror_mode": {
    "name": "ipython",
    "version": 3
   },
   "file_extension": ".py",
   "mimetype": "text/x-python",
   "name": "python",
   "nbconvert_exporter": "python",
   "pygments_lexer": "ipython3",
   "version": "3.8.5"
  }
 },
 "nbformat": 4,
 "nbformat_minor": 4
}
