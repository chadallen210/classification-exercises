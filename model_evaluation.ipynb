{
 "cells": [
  {
   "cell_type": "markdown",
   "metadata": {},
   "source": [
    "## Evaluation Exercises"
   ]
  },
  {
   "cell_type": "markdown",
   "metadata": {},
   "source": [
    "### 2. Given the following confusion matrix, evaluate (by hand) the model's performance.\n",
    "\n",
    "### - In the context of this problem, what is a false positive?\n",
    "-- False Positive = predicted dog but is a cat\n",
    "\n",
    "### - In the context of this problem, what is a false negative?\n",
    "-- False Negative = predicted cat but is a dog\n",
    "\n",
    "### - How would you describe this model?\n",
    "-- accuracy = (TP + TN) / (TP + TN + FP + FN) = (46+34) / (46+34+13+7) = 80/100 = 80%\n",
    "\n",
    "-- precision = TP / (TP + FP) = 46 / (46+13) = 46/59 = 77.97%\n",
    "\n",
    "-- recall = TP / (TP + FN) = 46 / (46+7) = 46/53 = 86.79%\n",
    "\n",
    "-- roughly 80% accuracy and precision means this model is good overall\n",
    "\n",
    "-- 87% recall - high recall covers false negatives (predict dog but cat)"
   ]
  },
  {
   "cell_type": "markdown",
   "metadata": {},
   "source": [
    "### 3. You are working as a datascientist working for Codeup Cody Creator (C3 for short), a rubber-duck manufacturing plant.\n",
    "\n",
    "Unfortunately, some of the rubber ducks that are produced will have defects. Your team has built several models that try to predict those defects, and the data from their predictions can be found here."
   ]
  },
  {
   "cell_type": "code",
   "execution_count": 2,
   "metadata": {},
   "outputs": [],
   "source": [
    "import pandas as pd\n",
    "import numpy as np"
   ]
  },
  {
   "cell_type": "code",
   "execution_count": 13,
   "metadata": {},
   "outputs": [
    {
     "data": {
      "text/html": [
       "<div>\n",
       "<style scoped>\n",
       "    .dataframe tbody tr th:only-of-type {\n",
       "        vertical-align: middle;\n",
       "    }\n",
       "\n",
       "    .dataframe tbody tr th {\n",
       "        vertical-align: top;\n",
       "    }\n",
       "\n",
       "    .dataframe thead th {\n",
       "        text-align: right;\n",
       "    }\n",
       "</style>\n",
       "<table border=\"1\" class=\"dataframe\">\n",
       "  <thead>\n",
       "    <tr style=\"text-align: right;\">\n",
       "      <th></th>\n",
       "      <th>actual</th>\n",
       "      <th>model1</th>\n",
       "      <th>model2</th>\n",
       "      <th>model3</th>\n",
       "    </tr>\n",
       "  </thead>\n",
       "  <tbody>\n",
       "    <tr>\n",
       "      <th>0</th>\n",
       "      <td>No Defect</td>\n",
       "      <td>No Defect</td>\n",
       "      <td>Defect</td>\n",
       "      <td>No Defect</td>\n",
       "    </tr>\n",
       "    <tr>\n",
       "      <th>1</th>\n",
       "      <td>No Defect</td>\n",
       "      <td>No Defect</td>\n",
       "      <td>Defect</td>\n",
       "      <td>Defect</td>\n",
       "    </tr>\n",
       "    <tr>\n",
       "      <th>2</th>\n",
       "      <td>No Defect</td>\n",
       "      <td>No Defect</td>\n",
       "      <td>Defect</td>\n",
       "      <td>No Defect</td>\n",
       "    </tr>\n",
       "    <tr>\n",
       "      <th>3</th>\n",
       "      <td>No Defect</td>\n",
       "      <td>Defect</td>\n",
       "      <td>Defect</td>\n",
       "      <td>Defect</td>\n",
       "    </tr>\n",
       "    <tr>\n",
       "      <th>4</th>\n",
       "      <td>No Defect</td>\n",
       "      <td>No Defect</td>\n",
       "      <td>Defect</td>\n",
       "      <td>No Defect</td>\n",
       "    </tr>\n",
       "  </tbody>\n",
       "</table>\n",
       "</div>"
      ],
      "text/plain": [
       "      actual     model1  model2     model3\n",
       "0  No Defect  No Defect  Defect  No Defect\n",
       "1  No Defect  No Defect  Defect     Defect\n",
       "2  No Defect  No Defect  Defect  No Defect\n",
       "3  No Defect     Defect  Defect     Defect\n",
       "4  No Defect  No Defect  Defect  No Defect"
      ]
     },
     "execution_count": 13,
     "metadata": {},
     "output_type": "execute_result"
    }
   ],
   "source": [
    "c3 = pd.read_csv('c3.csv')\n",
    "c3.head()"
   ]
  },
  {
   "cell_type": "code",
   "execution_count": 14,
   "metadata": {},
   "outputs": [
    {
     "data": {
      "text/plain": [
       "(200, 4)"
      ]
     },
     "execution_count": 14,
     "metadata": {},
     "output_type": "execute_result"
    }
   ],
   "source": [
    "c3.shape"
   ]
  },
  {
   "cell_type": "code",
   "execution_count": 15,
   "metadata": {},
   "outputs": [
    {
     "name": "stdout",
     "output_type": "stream",
     "text": [
      "<class 'pandas.core.frame.DataFrame'>\n",
      "RangeIndex: 200 entries, 0 to 199\n",
      "Data columns (total 4 columns):\n",
      " #   Column  Non-Null Count  Dtype \n",
      "---  ------  --------------  ----- \n",
      " 0   actual  200 non-null    object\n",
      " 1   model1  200 non-null    object\n",
      " 2   model2  200 non-null    object\n",
      " 3   model3  200 non-null    object\n",
      "dtypes: object(4)\n",
      "memory usage: 6.4+ KB\n"
     ]
    }
   ],
   "source": [
    "c3.info()"
   ]
  },
  {
   "cell_type": "markdown",
   "metadata": {},
   "source": [
    "### Use the predictions dataset and pandas to help answer the following questions:\n",
    "\n",
    "- An internal team wants to investigate the cause of the manufacturing defects. They tell you that they want to identify as many of the ducks that have a defect as possible. Which evaluation metric would be appropriate here? Which model would be the best fit for this use case?\n",
    "\n",
    "-- recall is the evaluation metric that is appropriate here to cover False Negatives"
   ]
  },
  {
   "cell_type": "code",
   "execution_count": 20,
   "metadata": {},
   "outputs": [
    {
     "data": {
      "text/html": [
       "<div>\n",
       "<style scoped>\n",
       "    .dataframe tbody tr th:only-of-type {\n",
       "        vertical-align: middle;\n",
       "    }\n",
       "\n",
       "    .dataframe tbody tr th {\n",
       "        vertical-align: top;\n",
       "    }\n",
       "\n",
       "    .dataframe thead th {\n",
       "        text-align: right;\n",
       "    }\n",
       "</style>\n",
       "<table border=\"1\" class=\"dataframe\">\n",
       "  <thead>\n",
       "    <tr style=\"text-align: right;\">\n",
       "      <th></th>\n",
       "      <th>actual</th>\n",
       "      <th>model1</th>\n",
       "      <th>model2</th>\n",
       "      <th>model3</th>\n",
       "    </tr>\n",
       "  </thead>\n",
       "  <tbody>\n",
       "    <tr>\n",
       "      <th>13</th>\n",
       "      <td>Defect</td>\n",
       "      <td>No Defect</td>\n",
       "      <td>Defect</td>\n",
       "      <td>Defect</td>\n",
       "    </tr>\n",
       "    <tr>\n",
       "      <th>30</th>\n",
       "      <td>Defect</td>\n",
       "      <td>Defect</td>\n",
       "      <td>No Defect</td>\n",
       "      <td>Defect</td>\n",
       "    </tr>\n",
       "    <tr>\n",
       "      <th>65</th>\n",
       "      <td>Defect</td>\n",
       "      <td>Defect</td>\n",
       "      <td>Defect</td>\n",
       "      <td>Defect</td>\n",
       "    </tr>\n",
       "    <tr>\n",
       "      <th>70</th>\n",
       "      <td>Defect</td>\n",
       "      <td>Defect</td>\n",
       "      <td>Defect</td>\n",
       "      <td>Defect</td>\n",
       "    </tr>\n",
       "    <tr>\n",
       "      <th>74</th>\n",
       "      <td>Defect</td>\n",
       "      <td>No Defect</td>\n",
       "      <td>No Defect</td>\n",
       "      <td>Defect</td>\n",
       "    </tr>\n",
       "  </tbody>\n",
       "</table>\n",
       "</div>"
      ],
      "text/plain": [
       "    actual     model1     model2  model3\n",
       "13  Defect  No Defect     Defect  Defect\n",
       "30  Defect     Defect  No Defect  Defect\n",
       "65  Defect     Defect     Defect  Defect\n",
       "70  Defect     Defect     Defect  Defect\n",
       "74  Defect  No Defect  No Defect  Defect"
      ]
     },
     "execution_count": 20,
     "metadata": {},
     "output_type": "execute_result"
    }
   ],
   "source": [
    "# positives are defective ducks\n",
    "positive = 'Defect'\n",
    "\n",
    "subset = c3[c3.actual == positive]\n",
    "subset.head()"
   ]
  },
  {
   "cell_type": "code",
   "execution_count": 79,
   "metadata": {},
   "outputs": [
    {
     "name": "stdout",
     "output_type": "stream",
     "text": [
      "Recall rate for model1 is 50.00%\n",
      "Recall rate for model2 is 56.25%\n",
      "Recall rate for model3 is 81.25%\n"
     ]
    }
   ],
   "source": [
    "recall1 = (subset.actual == subset.model1).mean()\n",
    "recall2 = (subset.actual == subset.model2).mean()\n",
    "recall3 = (subset.actual == subset.model3).mean()\n",
    "\n",
    "print(f'Recall rate for model1 is {recall1:.2%}')\n",
    "print(f'Recall rate for model2 is {recall2:.2%}')\n",
    "print(f'Recall rate for model3 is {recall3:.2%}')"
   ]
  },
  {
   "cell_type": "markdown",
   "metadata": {},
   "source": [
    "-- model3's 81.25% recall rate is the best fit for this use case because it catches 81.25% of defective ducks"
   ]
  },
  {
   "cell_type": "markdown",
   "metadata": {},
   "source": [
    "- Recently several stories in the local news have come out highlighting customers who received a rubber duck with a defect, and portraying C3 in a bad light. The PR team has decided to launch a program that gives customers with a defective duck a vacation to Hawaii. They need you to predict which ducks will have defects, but tell you they really don't want to accidentally give out a vacation package when the duck really doesn't have a defect. Which evaluation metric would be appropriate here? Which model would be the best fit for this use case?\n",
    "\n",
    "-- precision is the best evaluation method to avoid giving expensive vacation when there really is no defect (False Positives)"
   ]
  },
  {
   "cell_type": "code",
   "execution_count": 25,
   "metadata": {},
   "outputs": [
    {
     "name": "stdout",
     "output_type": "stream",
     "text": [
      "Precision rate for model1 is 80.00%\n",
      "Precision rate for model2 is 10.00%\n",
      "Precision rate for model3 is 13.13%\n"
     ]
    }
   ],
   "source": [
    "# positves are defective ducks\n",
    "positive = \"Defect\"\n",
    "\n",
    "subset1 = c3[c3.model1 == positive]\n",
    "subset2 = c3[c3.model2 == positive]\n",
    "subset3 = c3[c3.model3 == positive]\n",
    "\n",
    "precision1 = (subset1.model1 == subset1.actual).mean()\n",
    "precision2 = (subset2.model2 == subset2.actual).mean()\n",
    "precision3 = (subset3.model3 == subset3.actual).mean()\n",
    "\n",
    "print(f'Precision rate for model1 is {precision1:.2%}')\n",
    "print(f'Precision rate for model2 is {precision2:.2%}')\n",
    "print(f'Precision rate for model3 is {precision3:.2%}')"
   ]
  },
  {
   "cell_type": "markdown",
   "metadata": {},
   "source": [
    "-- model1 is the best fit for this use case because it will produce the least amount of False Positives"
   ]
  },
  {
   "cell_type": "markdown",
   "metadata": {},
   "source": [
    "### 4. You are working as a data scientist for Gives You Paws ™, a subscription based service that shows you cute pictures of dogs or cats (or both for an additional fee).\n",
    "\n",
    "### At Gives You Paws, anyone can upload pictures of their cats or dogs. The photos are then put through a two step process. First an automated algorithm tags pictures as either a cat or a dog (Phase I). Next, the photos that have been initially identified are put through another round of review, possibly with some human oversight, before being presented to the users (Phase II).\n",
    "\n",
    "### Several models have already been developed with the data, and you can find their results here."
   ]
  },
  {
   "cell_type": "code",
   "execution_count": 42,
   "metadata": {},
   "outputs": [
    {
     "data": {
      "text/html": [
       "<div>\n",
       "<style scoped>\n",
       "    .dataframe tbody tr th:only-of-type {\n",
       "        vertical-align: middle;\n",
       "    }\n",
       "\n",
       "    .dataframe tbody tr th {\n",
       "        vertical-align: top;\n",
       "    }\n",
       "\n",
       "    .dataframe thead th {\n",
       "        text-align: right;\n",
       "    }\n",
       "</style>\n",
       "<table border=\"1\" class=\"dataframe\">\n",
       "  <thead>\n",
       "    <tr style=\"text-align: right;\">\n",
       "      <th></th>\n",
       "      <th>actual</th>\n",
       "      <th>model1</th>\n",
       "      <th>model2</th>\n",
       "      <th>model3</th>\n",
       "      <th>model4</th>\n",
       "    </tr>\n",
       "  </thead>\n",
       "  <tbody>\n",
       "    <tr>\n",
       "      <th>0</th>\n",
       "      <td>cat</td>\n",
       "      <td>cat</td>\n",
       "      <td>dog</td>\n",
       "      <td>cat</td>\n",
       "      <td>dog</td>\n",
       "    </tr>\n",
       "    <tr>\n",
       "      <th>1</th>\n",
       "      <td>dog</td>\n",
       "      <td>dog</td>\n",
       "      <td>cat</td>\n",
       "      <td>cat</td>\n",
       "      <td>dog</td>\n",
       "    </tr>\n",
       "    <tr>\n",
       "      <th>2</th>\n",
       "      <td>dog</td>\n",
       "      <td>cat</td>\n",
       "      <td>cat</td>\n",
       "      <td>cat</td>\n",
       "      <td>dog</td>\n",
       "    </tr>\n",
       "    <tr>\n",
       "      <th>3</th>\n",
       "      <td>dog</td>\n",
       "      <td>dog</td>\n",
       "      <td>dog</td>\n",
       "      <td>cat</td>\n",
       "      <td>dog</td>\n",
       "    </tr>\n",
       "    <tr>\n",
       "      <th>4</th>\n",
       "      <td>cat</td>\n",
       "      <td>cat</td>\n",
       "      <td>cat</td>\n",
       "      <td>dog</td>\n",
       "      <td>dog</td>\n",
       "    </tr>\n",
       "  </tbody>\n",
       "</table>\n",
       "</div>"
      ],
      "text/plain": [
       "  actual model1 model2 model3 model4\n",
       "0    cat    cat    dog    cat    dog\n",
       "1    dog    dog    cat    cat    dog\n",
       "2    dog    cat    cat    cat    dog\n",
       "3    dog    dog    dog    cat    dog\n",
       "4    cat    cat    cat    dog    dog"
      ]
     },
     "execution_count": 42,
     "metadata": {},
     "output_type": "execute_result"
    }
   ],
   "source": [
    "gyp = pd.read_csv('gives_you_paws.csv')\n",
    "gyp.head()"
   ]
  },
  {
   "cell_type": "code",
   "execution_count": 27,
   "metadata": {},
   "outputs": [
    {
     "data": {
      "text/plain": [
       "(5000, 5)"
      ]
     },
     "execution_count": 27,
     "metadata": {},
     "output_type": "execute_result"
    }
   ],
   "source": [
    "gyp.shape"
   ]
  },
  {
   "cell_type": "markdown",
   "metadata": {},
   "source": [
    "### Given this dataset, use pandas to create a baseline model (i.e. a model that just predicts the most common class) and answer the following questions:\n",
    "\n",
    "- a. In terms of accuracy, how do the various models compare to the baseline model? Are any of the models better than the baseline?"
   ]
  },
  {
   "cell_type": "code",
   "execution_count": 28,
   "metadata": {},
   "outputs": [
    {
     "data": {
      "text/plain": [
       "dog    3254\n",
       "cat    1746\n",
       "Name: actual, dtype: int64"
      ]
     },
     "execution_count": 28,
     "metadata": {},
     "output_type": "execute_result"
    }
   ],
   "source": [
    "gyp.actual.value_counts()"
   ]
  },
  {
   "cell_type": "code",
   "execution_count": 29,
   "metadata": {},
   "outputs": [],
   "source": [
    "gyp['baseline'] = 'dog'"
   ]
  },
  {
   "cell_type": "code",
   "execution_count": 30,
   "metadata": {},
   "outputs": [
    {
     "data": {
      "text/html": [
       "<div>\n",
       "<style scoped>\n",
       "    .dataframe tbody tr th:only-of-type {\n",
       "        vertical-align: middle;\n",
       "    }\n",
       "\n",
       "    .dataframe tbody tr th {\n",
       "        vertical-align: top;\n",
       "    }\n",
       "\n",
       "    .dataframe thead th {\n",
       "        text-align: right;\n",
       "    }\n",
       "</style>\n",
       "<table border=\"1\" class=\"dataframe\">\n",
       "  <thead>\n",
       "    <tr style=\"text-align: right;\">\n",
       "      <th></th>\n",
       "      <th>actual</th>\n",
       "      <th>model1</th>\n",
       "      <th>model2</th>\n",
       "      <th>model3</th>\n",
       "      <th>model4</th>\n",
       "      <th>baseline</th>\n",
       "    </tr>\n",
       "  </thead>\n",
       "  <tbody>\n",
       "    <tr>\n",
       "      <th>0</th>\n",
       "      <td>cat</td>\n",
       "      <td>cat</td>\n",
       "      <td>dog</td>\n",
       "      <td>cat</td>\n",
       "      <td>dog</td>\n",
       "      <td>dog</td>\n",
       "    </tr>\n",
       "    <tr>\n",
       "      <th>1</th>\n",
       "      <td>dog</td>\n",
       "      <td>dog</td>\n",
       "      <td>cat</td>\n",
       "      <td>cat</td>\n",
       "      <td>dog</td>\n",
       "      <td>dog</td>\n",
       "    </tr>\n",
       "    <tr>\n",
       "      <th>2</th>\n",
       "      <td>dog</td>\n",
       "      <td>cat</td>\n",
       "      <td>cat</td>\n",
       "      <td>cat</td>\n",
       "      <td>dog</td>\n",
       "      <td>dog</td>\n",
       "    </tr>\n",
       "    <tr>\n",
       "      <th>3</th>\n",
       "      <td>dog</td>\n",
       "      <td>dog</td>\n",
       "      <td>dog</td>\n",
       "      <td>cat</td>\n",
       "      <td>dog</td>\n",
       "      <td>dog</td>\n",
       "    </tr>\n",
       "    <tr>\n",
       "      <th>4</th>\n",
       "      <td>cat</td>\n",
       "      <td>cat</td>\n",
       "      <td>cat</td>\n",
       "      <td>dog</td>\n",
       "      <td>dog</td>\n",
       "      <td>dog</td>\n",
       "    </tr>\n",
       "  </tbody>\n",
       "</table>\n",
       "</div>"
      ],
      "text/plain": [
       "  actual model1 model2 model3 model4 baseline\n",
       "0    cat    cat    dog    cat    dog      dog\n",
       "1    dog    dog    cat    cat    dog      dog\n",
       "2    dog    cat    cat    cat    dog      dog\n",
       "3    dog    dog    dog    cat    dog      dog\n",
       "4    cat    cat    cat    dog    dog      dog"
      ]
     },
     "execution_count": 30,
     "metadata": {},
     "output_type": "execute_result"
    }
   ],
   "source": [
    "gyp.head()"
   ]
  },
  {
   "cell_type": "code",
   "execution_count": 37,
   "metadata": {},
   "outputs": [
    {
     "name": "stdout",
     "output_type": "stream",
     "text": [
      "Accuracy rate for the baseline is 65.08%\n",
      "Accuracy rate for model1 is 80.74%\n",
      "Accuracy rate for model2 is 63.04%\n",
      "Accuracy rate for model3 is 50.96%\n",
      "Accuracy rate for model4 is 74.26%\n"
     ]
    }
   ],
   "source": [
    "# baseline accuracy\n",
    "baseacc = (gyp.actual == gyp.baseline).mean()\n",
    "\n",
    "# model1 accuracy\n",
    "model1acc = (gyp.actual == gyp.model1).mean()\n",
    "\n",
    "# model2 accuracy\n",
    "model2acc = (gyp.actual == gyp.model2).mean()\n",
    "\n",
    "# model3 accuracy\n",
    "model3acc = (gyp.actual == gyp.model3).mean()\n",
    "\n",
    "# model4 accuracy\n",
    "model4acc = (gyp.actual == gyp.model4).mean()\n",
    "\n",
    "print(f'Accuracy rate for the baseline is {baseacc:.2%}')\n",
    "print(f'Accuracy rate for model1 is {model1acc:.2%}')\n",
    "print(f'Accuracy rate for model2 is {model2acc:.2%}')\n",
    "print(f'Accuracy rate for model3 is {model3acc:.2%}')\n",
    "print(f'Accuracy rate for model4 is {model4acc:.2%}')"
   ]
  },
  {
   "cell_type": "markdown",
   "metadata": {},
   "source": [
    "-- models 1 and 4 had better accuracy than the baseline"
   ]
  },
  {
   "cell_type": "markdown",
   "metadata": {},
   "source": [
    "#### b. Suppose you are working on a team that solely deals with dog pictures. Which of these models would you recomend for Phase I? For Phase II?\n",
    "\n",
    "-- For Phase I, since this is the initial sorting of dogs and cats, accuracy would be the best metric to ensure highest rate of corrrectly sorting the 2 items.\n",
    "\n",
    "-- For Phase II, recall would be the best metric"
   ]
  },
  {
   "cell_type": "code",
   "execution_count": 38,
   "metadata": {},
   "outputs": [
    {
     "name": "stdout",
     "output_type": "stream",
     "text": [
      "Accuracy rate for model1 is 80.74%\n",
      "Accuracy rate for model2 is 63.04%\n",
      "Accuracy rate for model3 is 50.96%\n",
      "Accuracy rate for model4 is 74.26%\n"
     ]
    }
   ],
   "source": [
    "accmodel1 = (gyp.actual == gyp.model1).mean()\n",
    "accmodel2 = (gyp.actual == gyp.model2).mean()\n",
    "accmodel3 = (gyp.actual == gyp.model3).mean()\n",
    "accmodel4 = (gyp.actual == gyp.model4).mean()\n",
    "\n",
    "print(f'Accuracy rate for model1 is {accmodel1:.2%}')\n",
    "print(f'Accuracy rate for model2 is {accmodel2:.2%}')\n",
    "print(f'Accuracy rate for model3 is {accmodel3:.2%}')\n",
    "print(f'Accuracy rate for model4 is {accmodel4:.2%}')"
   ]
  },
  {
   "cell_type": "markdown",
   "metadata": {},
   "source": [
    "-- I would recommend model1 for Phase I because it has the highest accuracy rate."
   ]
  },
  {
   "cell_type": "code",
   "execution_count": 46,
   "metadata": {},
   "outputs": [
    {
     "name": "stdout",
     "output_type": "stream",
     "text": [
      "Recall rate for model1 is 80.33%\n",
      "Recall rate for model2 is 49.08%\n",
      "Recall rate for model3 is 50.86%\n",
      "Recall rate for model4 is 95.57%\n"
     ]
    }
   ],
   "source": [
    "# positives are dog\n",
    "positive4 = 'dog'\n",
    "\n",
    "subset4 = gyp[gyp.actual == positive4]\n",
    "\n",
    "gyprecall1 = (subset4.actual == subset4.model1).mean()\n",
    "gyprecall2 = (subset4.actual == subset4.model2).mean()\n",
    "gyprecall3 = (subset4.actual == subset4.model3).mean()\n",
    "gyprecall4 = (subset4.actual == subset4.model4).mean()\n",
    "\n",
    "print(f'Recall rate for model1 is {gyprecall1:.2%}')\n",
    "print(f'Recall rate for model2 is {gyprecall2:.2%}')\n",
    "print(f'Recall rate for model3 is {gyprecall3:.2%}')\n",
    "print(f'Recall rate for model4 is {gyprecall4:.2%}')"
   ]
  },
  {
   "cell_type": "markdown",
   "metadata": {},
   "source": [
    "-- I would recommend model4 for Phase II because it has the highest recall rate."
   ]
  },
  {
   "cell_type": "markdown",
   "metadata": {},
   "source": [
    "#### c. Suppose you are working on a team that solely deals with cat pictures. Which of these models would you recomend for Phase I? For Phase II?\n",
    "\n",
    "-- For Phase I, since this is (still) the initial sorting of dogs and cats, accuracy would be the best metric to ensure highest rate of corrrectly sorting the 2 items.\n",
    "\n",
    "-- For Phase II, recall would be the best metric"
   ]
  },
  {
   "cell_type": "code",
   "execution_count": 47,
   "metadata": {},
   "outputs": [
    {
     "name": "stdout",
     "output_type": "stream",
     "text": [
      "Accuracy rate for model1 is 80.74%\n",
      "Accuracy rate for model2 is 63.04%\n",
      "Accuracy rate for model3 is 50.96%\n",
      "Accuracy rate for model4 is 74.26%\n"
     ]
    }
   ],
   "source": [
    "accmodel1 = (gyp.actual == gyp.model1).mean()\n",
    "accmodel2 = (gyp.actual == gyp.model2).mean()\n",
    "accmodel3 = (gyp.actual == gyp.model3).mean()\n",
    "accmodel4 = (gyp.actual == gyp.model4).mean()\n",
    "\n",
    "print(f'Accuracy rate for model1 is {accmodel1:.2%}')\n",
    "print(f'Accuracy rate for model2 is {accmodel2:.2%}')\n",
    "print(f'Accuracy rate for model3 is {accmodel3:.2%}')\n",
    "print(f'Accuracy rate for model4 is {accmodel4:.2%}')"
   ]
  },
  {
   "cell_type": "markdown",
   "metadata": {},
   "source": [
    "-- I would (again) recommend model1 for Phase I because it has the highest accuracy rate."
   ]
  },
  {
   "cell_type": "code",
   "execution_count": 48,
   "metadata": {},
   "outputs": [
    {
     "name": "stdout",
     "output_type": "stream",
     "text": [
      "Recall rate for model1 is 81.50%\n",
      "Recall rate for model2 is 89.06%\n",
      "Recall rate for model3 is 51.15%\n",
      "Recall rate for model4 is 34.54%\n"
     ]
    }
   ],
   "source": [
    "# positives are dog\n",
    "positive5 = 'cat'\n",
    "\n",
    "subset5 = gyp[gyp.actual == positive5]\n",
    "\n",
    "gyp5recall1 = (subset5.actual == subset5.model1).mean()\n",
    "gyp5recall2 = (subset5.actual == subset5.model2).mean()\n",
    "gyp5recall3 = (subset5.actual == subset5.model3).mean()\n",
    "gyp5recall4 = (subset5.actual == subset5.model4).mean()\n",
    "\n",
    "print(f'Recall rate for model1 is {gyp5recall1:.2%}')\n",
    "print(f'Recall rate for model2 is {gyp5recall2:.2%}')\n",
    "print(f'Recall rate for model3 is {gyp5recall3:.2%}')\n",
    "print(f'Recall rate for model4 is {gyp5recall4:.2%}')"
   ]
  },
  {
   "cell_type": "markdown",
   "metadata": {},
   "source": [
    "-- For Phase II with cats, model2 has the highest recall rate."
   ]
  },
  {
   "cell_type": "markdown",
   "metadata": {},
   "source": [
    "### 5. Follow the links below to read the documentation about each function, then apply those functions to the data from the previous problem.\n",
    "\n",
    "- sklearn.metrics.accuracy_score\n",
    "\n",
    "- sklearn.metrics.precision_score\n",
    "\n",
    "- sklearn.metrics.recall_score\n",
    "\n",
    "- sklearn.metrics.classification_report"
   ]
  },
  {
   "cell_type": "code",
   "execution_count": 49,
   "metadata": {},
   "outputs": [],
   "source": [
    "from sklearn.metrics import accuracy_score\n",
    "# computes the accuracy score, 0 to 1"
   ]
  },
  {
   "cell_type": "code",
   "execution_count": 57,
   "metadata": {},
   "outputs": [
    {
     "name": "stdout",
     "output_type": "stream",
     "text": [
      "Accuracy score for model1 is 0.8074\n",
      "Accuracy score for model2 is 0.6304\n",
      "Accuracy score for model3 is 0.5096\n",
      "Accuracy score for model4 is 0.7426\n"
     ]
    }
   ],
   "source": [
    "acc5model1 = accuracy_score(gyp.actual, gyp.model1)\n",
    "acc5model2 = accuracy_score(gyp.actual, gyp.model2)\n",
    "acc5model3 = accuracy_score(gyp.actual, gyp.model3)\n",
    "acc5model4 = accuracy_score(gyp.actual, gyp.model4)\n",
    "\n",
    "print(f'Accuracy score for model1 is {acc5model1:.4}')\n",
    "print(f'Accuracy score for model2 is {acc5model2:.4}')\n",
    "print(f'Accuracy score for model3 is {acc5model3:.4}')\n",
    "print(f'Accuracy score for model4 is {acc5model4:.4}')"
   ]
  },
  {
   "cell_type": "code",
   "execution_count": 60,
   "metadata": {},
   "outputs": [],
   "source": [
    "from sklearn.metrics import precision_score\n",
    "# computes precision score, 0 to 1"
   ]
  },
  {
   "cell_type": "code",
   "execution_count": 67,
   "metadata": {},
   "outputs": [
    {
     "name": "stdout",
     "output_type": "stream",
     "text": [
      "Precision score for model1 is 0.89\n",
      "Precision score for model2 is 0.8932\n",
      "Precision score for model3 is 0.6599\n",
      "Precision score for model4 is 0.7312\n"
     ]
    }
   ],
   "source": [
    "pre5model1 = precision_score(gyp.actual, gyp.model1, pos_label='dog')\n",
    "pre5model2 = precision_score(gyp.actual, gyp.model2, pos_label='dog')\n",
    "pre5model3 = precision_score(gyp.actual, gyp.model3, pos_label='dog')\n",
    "pre5model4 = precision_score(gyp.actual, gyp.model4, pos_label='dog')\n",
    "\n",
    "print(f'Precision score for model1 is {pre5model1:.4}')\n",
    "print(f'Precision score for model2 is {pre5model2:.4}')\n",
    "print(f'Precision score for model3 is {pre5model3:.4}')\n",
    "print(f'Precision score for model4 is {pre5model4:.4}')"
   ]
  },
  {
   "cell_type": "code",
   "execution_count": 65,
   "metadata": {},
   "outputs": [],
   "source": [
    "from sklearn.metrics import recall_score\n",
    "# computes recall score, 0 to 1"
   ]
  },
  {
   "cell_type": "code",
   "execution_count": 68,
   "metadata": {},
   "outputs": [
    {
     "name": "stdout",
     "output_type": "stream",
     "text": [
      "Recall score for model1 is 0.8033\n",
      "Recall score for model2 is 0.4908\n",
      "Recall score for model3 is 0.5086\n",
      "Recall score for model4 is 0.9557\n"
     ]
    }
   ],
   "source": [
    "recall5model1 = recall_score(gyp.actual, gyp.model1, pos_label='dog')\n",
    "recall5model2 = recall_score(gyp.actual, gyp.model2, pos_label='dog')\n",
    "recall5model3 = recall_score(gyp.actual, gyp.model3, pos_label='dog')\n",
    "recall5model4 = recall_score(gyp.actual, gyp.model4, pos_label='dog')\n",
    "\n",
    "print(f'Recall score for model1 is {recall5model1:.4}')\n",
    "print(f'Recall score for model2 is {recall5model2:.4}')\n",
    "print(f'Recall score for model3 is {recall5model3:.4}')\n",
    "print(f'Recall score for model4 is {recall5model4:.4}')"
   ]
  },
  {
   "cell_type": "code",
   "execution_count": 70,
   "metadata": {},
   "outputs": [],
   "source": [
    "from sklearn.metrics import classification_report\n",
    "# builds a report showing the main classification metrics"
   ]
  },
  {
   "cell_type": "code",
   "execution_count": 78,
   "metadata": {},
   "outputs": [
    {
     "name": "stdout",
     "output_type": "stream",
     "text": [
      "Classification report for model1\n",
      "              precision    recall  f1-score   support\n",
      "\n",
      "         cat       0.69      0.82      0.75      1746\n",
      "         dog       0.89      0.80      0.84      3254\n",
      "\n",
      "    accuracy                           0.81      5000\n",
      "   macro avg       0.79      0.81      0.80      5000\n",
      "weighted avg       0.82      0.81      0.81      5000\n",
      "\n",
      "------------------------------------------------------\n",
      "Classification report for model2\n",
      "              precision    recall  f1-score   support\n",
      "\n",
      "         cat       0.48      0.89      0.63      1746\n",
      "         dog       0.89      0.49      0.63      3254\n",
      "\n",
      "    accuracy                           0.63      5000\n",
      "   macro avg       0.69      0.69      0.63      5000\n",
      "weighted avg       0.75      0.63      0.63      5000\n",
      "\n",
      "------------------------------------------------------\n",
      "Classification report for model3\n",
      "              precision    recall  f1-score   support\n",
      "\n",
      "         cat       0.36      0.51      0.42      1746\n",
      "         dog       0.66      0.51      0.57      3254\n",
      "\n",
      "    accuracy                           0.51      5000\n",
      "   macro avg       0.51      0.51      0.50      5000\n",
      "weighted avg       0.55      0.51      0.52      5000\n",
      "\n",
      "------------------------------------------------------\n",
      "Classification report for model4\n",
      "              precision    recall  f1-score   support\n",
      "\n",
      "         cat       0.81      0.35      0.48      1746\n",
      "         dog       0.73      0.96      0.83      3254\n",
      "\n",
      "    accuracy                           0.74      5000\n",
      "   macro avg       0.77      0.65      0.66      5000\n",
      "weighted avg       0.76      0.74      0.71      5000\n",
      "\n",
      "------------------------------------------------------\n"
     ]
    }
   ],
   "source": [
    "print('Classification report for model1')\n",
    "print(classification_report(gyp.actual, gyp.model1))\n",
    "print('------------------------------------------------------')\n",
    "print('Classification report for model2')\n",
    "print(classification_report(gyp.actual, gyp.model2))\n",
    "print('------------------------------------------------------')\n",
    "print('Classification report for model3')\n",
    "print(classification_report(gyp.actual, gyp.model3))\n",
    "print('------------------------------------------------------')\n",
    "print('Classification report for model4')\n",
    "print(classification_report(gyp.actual, gyp.model4))\n",
    "print('------------------------------------------------------')"
   ]
  },
  {
   "cell_type": "code",
   "execution_count": null,
   "metadata": {},
   "outputs": [],
   "source": []
  }
 ],
 "metadata": {
  "kernelspec": {
   "display_name": "Python 3",
   "language": "python",
   "name": "python3"
  },
  "language_info": {
   "codemirror_mode": {
    "name": "ipython",
    "version": 3
   },
   "file_extension": ".py",
   "mimetype": "text/x-python",
   "name": "python",
   "nbconvert_exporter": "python",
   "pygments_lexer": "ipython3",
   "version": "3.8.5"
  }
 },
 "nbformat": 4,
 "nbformat_minor": 4
}
